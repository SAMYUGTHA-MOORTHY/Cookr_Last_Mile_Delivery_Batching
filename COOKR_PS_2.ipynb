{
  "nbformat": 4,
  "nbformat_minor": 0,
  "metadata": {
    "colab": {
      "provenance": []
    },
    "kernelspec": {
      "name": "python3",
      "display_name": "Python 3"
    },
    "language_info": {
      "name": "python"
    }
  },
  "cells": [
    {
      "cell_type": "code",
      "execution_count": null,
      "metadata": {
        "id": "5jnc-jDd6g7q"
      },
      "outputs": [],
      "source": [
        "#GENERATING DATA WITHOUT RIDERS AVAILABILITY\n",
        "from typing import List\n",
        "import random\n",
        "from datetime import datetime, timedelta\n",
        "from collections import namedtuple\n",
        "from tabulate import tabulate\n",
        "import matplotlib.pyplot as plt\n",
        "import numpy as np"
      ]
    },
    {
      "cell_type": "code",
      "source": [
        "# Define named tuples for data types\n",
        "FoodItem = namedtuple(\"FoodItem\", [\"name\", \"preparation_time\"])\n",
        "Location = namedtuple(\"Location\", [\"address\", \"latitude\", \"longitude\"])\n",
        "OrderDetail = namedtuple(\"OrderDetail\", [\"order_id\", \"food_items\", \"kitchen_id\", \"pick_up_location\", \"drop_off_location\", \"order_time\", \"order_ready_time\"])\n",
        "KitchenDetail = namedtuple(\"KitchenDetail\", [\"kitchen_id\", \"location\"])\n",
        "RiderDetail = namedtuple(\"RiderDetail\", [\"rider_id\", \"location\"])"
      ],
      "metadata": {
        "id": "buBq1w6-6nv_"
      },
      "execution_count": null,
      "outputs": []
    },
    {
      "cell_type": "code",
      "source": [
        "# Kitchen coordinates\n",
        "kitchens = [\n",
        "    KitchenDetail(\"K1\", Location(\"K1\", 11.00555, 76.96612)),\n",
        "    KitchenDetail(\"K2\", Location(\"K2\", 11.03333, 77))\n",
        "]\n",
        "\n",
        "# Rider coordinates\n",
        "riders = [\n",
        "    RiderDetail(\"Rider 1\", Location(\"Rider 1\", 11.01402, 76.96747)),\n",
        "    RiderDetail(\"Rider 2\", Location(\"Rider 2\", 10.99953, 76.96569)),\n",
        "    RiderDetail(\"Rider 3\", Location(\"Rider 3\", 11.00681, 76.96119)),\n",
        "    RiderDetail(\"Rider 4\", Location(\"Rider 4\", 11.03015, 76.99196)),\n",
        "    RiderDetail(\"Rider 5\", Location(\"Rider 5\", 11.03125, 77.00863)),\n",
        "    RiderDetail(\"Rider 6\", Location(address='Rider 6', latitude=11.00363, longitude=76.96093)),\n",
        "    RiderDetail(\"Rider 7\", Location(address='Rider 7', latitude=11.01809, longitude=77.05601)),\n",
        "    RiderDetail(\"Rider 8\", Location(address='Rider 8', latitude=11.06447, longitude=76.97164)),\n",
        "    RiderDetail(\"Rider 9\", Location(address='Rider 9', latitude=11.07353, longitude=77.00181)),\n",
        "    RiderDetail(\"Rider 10\", Location(address='Rider 10', latitude=11.11634, longitude=77.00677)),\n",
        "    RiderDetail(\"Rider 11\", Location(address='Rider 11', latitude=11.05495, longitude=76.91776)),\n",
        "    RiderDetail(\"Rider 12\", Location(address='Rider 12', latitude=10.99772, longitude=76.97468)),\n",
        "    RiderDetail(\"Rider 13\", Location(address='Rider 13', latitude=10.99101, longitude=76.93552)),\n",
        "    RiderDetail(\"Rider 14\", Location(address='Rider 14', latitude=10.93497, longitude=76.97743)),\n",
        "    RiderDetail(\"Rider 15\", Location(address='Rider 15', latitude=11.03126, longitude=76.95073)),\n",
        "    RiderDetail(\"Rider 16\", Location(address='Rider 16', latitude=10.92246, longitude=76.93456)),\n",
        "    RiderDetail(\"Rider 17\", Location(address='Rider 17', latitude=11.01569, longitude=77.03631)),\n",
        "    RiderDetail(\"Rider 18\", Location(address='Rider 18', latitude=11.03662, longitude=77.06745)),\n",
        "    RiderDetail(\"Rider 19\", Location(address='Rider 19', latitude=11.08440, longitude=76.96854)),\n",
        "    RiderDetail(\"Rider 20\", Location(address='Rider 20', latitude=10.97375, longitude=76.97778))\n",
        "]\n",
        "\n",
        "# Customer coordinates\n",
        "customers = [\n",
        "    Location(f\"Customer {i}\", *coords) for i, coords in enumerate([\n",
        "        (11.00155, 76.96612), (11.01524, 76.97000), (11.01378, 76.96423), (11.00793, 76.96247),\n",
        "        (11.01217, 76.96931), (11.03521, 76.99256), (11.03285, 76.99872), (11.03457, 77.00358),\n",
        "        (11.03188, 77.00568), (11.02879, 77.00213), (11.01144, 76.96747), (11.01637, 76.96875),\n",
        "        (11.01452, 76.96631), (10.99712, 76.96569), (11.00036, 76.96445)\n",
        "    ])\n",
        "]\n",
        "\n",
        "# Food items\n",
        "food_items = [\n",
        "    FoodItem(\"Idli\", random.randint(10, 30)),\n",
        "    FoodItem(\"Meals\", random.randint(5, 15)),\n",
        "    FoodItem(\"Poori\", random.randint(15, 25)),\n",
        "    FoodItem(\"Variety Rice\", random.randint(8, 20)),\n",
        "    FoodItem(\"Salad\", random.randint(5, 10)),\n",
        "]"
      ],
      "metadata": {
        "id": "duu9CT5Q6rcz"
      },
      "execution_count": null,
      "outputs": []
    },
    {
      "cell_type": "code",
      "source": [
        "# Generate 25 orders\n",
        "orders = []\n",
        "order_id = 1\n",
        "for _ in range(25):\n",
        "    # Randomly select a customer and kitchen for the order\n",
        "    customer = random.choice(customers)\n",
        "    kitchen = random.choice(kitchens)\n",
        "\n",
        "    # Randomly select food items for the order\n",
        "    num_items = random.randint(1, len(food_items))\n",
        "    order_items = random.sample(food_items, num_items)\n",
        "\n",
        "    # Calculate order time and ready time (within 30 minutes)\n",
        "    order_time = datetime.now()\n",
        "    order_ready_time = order_time + timedelta(minutes=random.randint(10, 30))\n",
        "\n",
        "    pick_up_location = kitchen.location\n",
        "\n",
        "    # Create order detail and add to orders list\n",
        "    order = OrderDetail(f\"Order {order_id}\", order_items, kitchen.kitchen_id, pick_up_location, customer, order_time, order_ready_time)\n",
        "    orders.append(order)\n",
        "    order_id += 1\n",
        "\n",
        "print(\"Generated Orders:\")\n",
        "\"\"\"for order in orders:\n",
        "    print(order)\n",
        "    print(\"\\n\")\"\"\"\n",
        "\n",
        "# Convert orders to a list of lists for tabulate\n",
        "orders_table = []\n",
        "for order in orders:\n",
        "    orders_table.append([\n",
        "        order.order_id,\n",
        "        \", \".join([item.name for item in order.food_items]),\n",
        "        order.kitchen_id,\n",
        "        order.pick_up_location.address,\n",
        "        order.drop_off_location.address,\n",
        "        order.order_time.strftime(\"%Y-%m-%d %H:%M:%S\"),\n",
        "        order.order_ready_time.strftime(\"%Y-%m-%d %H:%M:%S\")\n",
        "    ])\n",
        "\n",
        "# Define headers for the table\n",
        "headers = [\"Order ID\", \"Food Items\", \"Kitchen ID\", \"Pickup Location\", \"Drop-off Location\", \"Order Time\", \"Order Ready Time\"]\n",
        "\n",
        "# Print the table\n",
        "print(tabulate(orders_table, headers=headers, tablefmt=\"grid\"))"
      ],
      "metadata": {
        "colab": {
          "base_uri": "https://localhost:8080/"
        },
        "id": "yy4_RH9Q6w4I",
        "outputId": "0324ba2c-eeb0-4048-f400-72b30b67d53e"
      },
      "execution_count": null,
      "outputs": [
        {
          "output_type": "stream",
          "name": "stdout",
          "text": [
            "Generated Orders:\n",
            "+------------+-----------------------------------------+--------------+-------------------+---------------------+---------------------+---------------------+\n",
            "| Order ID   | Food Items                              | Kitchen ID   | Pickup Location   | Drop-off Location   | Order Time          | Order Ready Time    |\n",
            "+============+=========================================+==============+===================+=====================+=====================+=====================+\n",
            "| Order 1    | Meals, Poori                            | K2           | K2                | Customer 12         | 2024-03-02 03:43:35 | 2024-03-02 03:58:35 |\n",
            "+------------+-----------------------------------------+--------------+-------------------+---------------------+---------------------+---------------------+\n",
            "| Order 2    | Meals, Salad, Poori, Idli, Variety Rice | K2           | K2                | Customer 12         | 2024-03-02 03:43:35 | 2024-03-02 04:07:35 |\n",
            "+------------+-----------------------------------------+--------------+-------------------+---------------------+---------------------+---------------------+\n",
            "| Order 3    | Meals                                   | K2           | K2                | Customer 14         | 2024-03-02 03:43:35 | 2024-03-02 04:01:35 |\n",
            "+------------+-----------------------------------------+--------------+-------------------+---------------------+---------------------+---------------------+\n",
            "| Order 4    | Poori, Meals, Idli, Variety Rice, Salad | K1           | K1                | Customer 8          | 2024-03-02 03:43:35 | 2024-03-02 03:54:35 |\n",
            "+------------+-----------------------------------------+--------------+-------------------+---------------------+---------------------+---------------------+\n",
            "| Order 5    | Meals                                   | K2           | K2                | Customer 5          | 2024-03-02 03:43:35 | 2024-03-02 04:09:35 |\n",
            "+------------+-----------------------------------------+--------------+-------------------+---------------------+---------------------+---------------------+\n",
            "| Order 6    | Idli, Meals, Salad                      | K2           | K2                | Customer 8          | 2024-03-02 03:43:35 | 2024-03-02 04:08:35 |\n",
            "+------------+-----------------------------------------+--------------+-------------------+---------------------+---------------------+---------------------+\n",
            "| Order 7    | Idli                                    | K1           | K1                | Customer 6          | 2024-03-02 03:43:35 | 2024-03-02 04:03:35 |\n",
            "+------------+-----------------------------------------+--------------+-------------------+---------------------+---------------------+---------------------+\n",
            "| Order 8    | Salad, Variety Rice, Idli, Meals        | K1           | K1                | Customer 9          | 2024-03-02 03:43:35 | 2024-03-02 04:02:35 |\n",
            "+------------+-----------------------------------------+--------------+-------------------+---------------------+---------------------+---------------------+\n",
            "| Order 9    | Idli, Meals, Salad                      | K2           | K2                | Customer 5          | 2024-03-02 03:43:35 | 2024-03-02 04:07:35 |\n",
            "+------------+-----------------------------------------+--------------+-------------------+---------------------+---------------------+---------------------+\n",
            "| Order 10   | Poori, Idli, Salad, Variety Rice, Meals | K2           | K2                | Customer 5          | 2024-03-02 03:43:35 | 2024-03-02 04:07:35 |\n",
            "+------------+-----------------------------------------+--------------+-------------------+---------------------+---------------------+---------------------+\n",
            "| Order 11   | Idli, Meals, Poori, Variety Rice        | K2           | K2                | Customer 6          | 2024-03-02 03:43:35 | 2024-03-02 04:08:35 |\n",
            "+------------+-----------------------------------------+--------------+-------------------+---------------------+---------------------+---------------------+\n",
            "| Order 12   | Variety Rice, Poori, Salad, Idli, Meals | K2           | K2                | Customer 2          | 2024-03-02 03:43:35 | 2024-03-02 03:55:35 |\n",
            "+------------+-----------------------------------------+--------------+-------------------+---------------------+---------------------+---------------------+\n",
            "| Order 13   | Idli, Salad, Poori                      | K2           | K2                | Customer 11         | 2024-03-02 03:43:35 | 2024-03-02 04:07:35 |\n",
            "+------------+-----------------------------------------+--------------+-------------------+---------------------+---------------------+---------------------+\n",
            "| Order 14   | Poori, Meals, Idli                      | K1           | K1                | Customer 8          | 2024-03-02 03:43:35 | 2024-03-02 04:08:35 |\n",
            "+------------+-----------------------------------------+--------------+-------------------+---------------------+---------------------+---------------------+\n",
            "| Order 15   | Salad, Variety Rice                     | K2           | K2                | Customer 0          | 2024-03-02 03:43:35 | 2024-03-02 04:00:35 |\n",
            "+------------+-----------------------------------------+--------------+-------------------+---------------------+---------------------+---------------------+\n",
            "| Order 16   | Idli, Variety Rice                      | K2           | K2                | Customer 8          | 2024-03-02 03:43:35 | 2024-03-02 04:11:35 |\n",
            "+------------+-----------------------------------------+--------------+-------------------+---------------------+---------------------+---------------------+\n",
            "| Order 17   | Meals                                   | K2           | K2                | Customer 4          | 2024-03-02 03:43:35 | 2024-03-02 03:58:35 |\n",
            "+------------+-----------------------------------------+--------------+-------------------+---------------------+---------------------+---------------------+\n",
            "| Order 18   | Variety Rice, Poori, Salad, Idli        | K1           | K1                | Customer 4          | 2024-03-02 03:43:35 | 2024-03-02 04:05:35 |\n",
            "+------------+-----------------------------------------+--------------+-------------------+---------------------+---------------------+---------------------+\n",
            "| Order 19   | Poori                                   | K2           | K2                | Customer 11         | 2024-03-02 03:43:35 | 2024-03-02 04:02:35 |\n",
            "+------------+-----------------------------------------+--------------+-------------------+---------------------+---------------------+---------------------+\n",
            "| Order 20   | Variety Rice, Meals, Salad, Poori, Idli | K1           | K1                | Customer 8          | 2024-03-02 03:43:35 | 2024-03-02 04:09:35 |\n",
            "+------------+-----------------------------------------+--------------+-------------------+---------------------+---------------------+---------------------+\n",
            "| Order 21   | Idli, Variety Rice, Salad, Meals        | K1           | K1                | Customer 12         | 2024-03-02 03:43:35 | 2024-03-02 04:11:35 |\n",
            "+------------+-----------------------------------------+--------------+-------------------+---------------------+---------------------+---------------------+\n",
            "| Order 22   | Variety Rice, Salad                     | K2           | K2                | Customer 13         | 2024-03-02 03:43:35 | 2024-03-02 04:01:35 |\n",
            "+------------+-----------------------------------------+--------------+-------------------+---------------------+---------------------+---------------------+\n",
            "| Order 23   | Variety Rice, Meals                     | K1           | K1                | Customer 4          | 2024-03-02 03:43:35 | 2024-03-02 03:58:35 |\n",
            "+------------+-----------------------------------------+--------------+-------------------+---------------------+---------------------+---------------------+\n",
            "| Order 24   | Variety Rice, Meals, Poori, Idli, Salad | K2           | K2                | Customer 10         | 2024-03-02 03:43:35 | 2024-03-02 03:54:35 |\n",
            "+------------+-----------------------------------------+--------------+-------------------+---------------------+---------------------+---------------------+\n",
            "| Order 25   | Variety Rice, Meals, Idli, Poori        | K2           | K2                | Customer 5          | 2024-03-02 03:43:35 | 2024-03-02 04:06:35 |\n",
            "+------------+-----------------------------------------+--------------+-------------------+---------------------+---------------------+---------------------+\n"
          ]
        }
      ]
    },
    {
      "cell_type": "code",
      "source": [
        "# Extract coordinates of kitchens and customers\n",
        "kitchen_coordinates = [(k.location.latitude, k.location.longitude) for k in kitchens]\n",
        "customer_coordinates = [(c.latitude, c.longitude) for c in customers]\n",
        "\n",
        "# Plot kitchens and customers\n",
        "plt.figure(figsize=(10, 6))\n",
        "for coord in kitchen_coordinates:\n",
        "    plt.scatter(coord[1], coord[0], color='blue', label='Kitchen', marker='^', s=100)\n",
        "\n",
        "for coord in customer_coordinates:\n",
        "    plt.scatter(coord[1], coord[0], color='red', label='Customer', marker='o')\n",
        "\n",
        "plt.xlabel('Longitude')\n",
        "plt.ylabel('Latitude')\n",
        "plt.title('Coordinates of Kitchens and Customers')\n",
        "plt.grid(True)\n",
        "plt.show()"
      ],
      "metadata": {
        "colab": {
          "base_uri": "https://localhost:8080/",
          "height": 564
        },
        "id": "NRtIjnzQ7fhG",
        "outputId": "1e3d25d3-113f-4691-8815-55b3a6ce311e"
      },
      "execution_count": null,
      "outputs": [
        {
          "output_type": "display_data",
          "data": {
            "text/plain": [
              "<Figure size 1000x600 with 1 Axes>"
            ],
            "image/png": "[encoded data removed]"
          },
          "metadata": {}
        }
      ]
    },
    {
      "cell_type": "code",
      "source": [
        "# Extract coordinates of riders\n",
        "rider_coordinates = [(r.location.latitude, r.location.longitude) for r in riders]\n",
        "\n",
        "# Plot kitchens and riders\n",
        "plt.figure(figsize=(10, 6))\n",
        "for coord in kitchen_coordinates:\n",
        "    plt.scatter(coord[1], coord[0], color='blue', label='Kitchen', marker='^', s=100)\n",
        "\n",
        "for coord in rider_coordinates:\n",
        "    plt.scatter(coord[1], coord[0], color='green', label='Rider', marker='s')\n",
        "\n",
        "plt.xlabel('Longitude')\n",
        "plt.ylabel('Latitude')\n",
        "plt.title('Coordinates of Kitchens and Riders')\n",
        "plt.grid(True)\n",
        "plt.show()"
      ],
      "metadata": {
        "colab": {
          "base_uri": "https://localhost:8080/",
          "height": 564
        },
        "id": "SoIPg1dU7kBg",
        "outputId": "9565765d-d647-423f-bfb8-fae3dcce8cda"
      },
      "execution_count": null,
      "outputs": [
        {
          "output_type": "display_data",
          "data": {
            "text/plain": [
              "<Figure size 1000x600 with 1 Axes>"
            ],
            "image/png": "[encoded data removed]"
          },
          "metadata": {}
        }
      ]
    },
    {
      "cell_type": "code",
      "source": [
        "#NOW WE NEED TO DEFINE DISTANCE MATRIX AND TIME MATRIX BETWEEN\n",
        "#(i)Kitchen & Customers\n",
        "#DISTANCE MATRIX\n",
        "# Define labels\n",
        "labels = ['K1', 'K2', 'C1', 'C2', 'C3', 'C4', 'C5', 'C6', 'C7', 'C8', 'C9', 'C10', 'C11', 'C12', 'C13', 'C14', 'C15']\n",
        "# Initialize a 17x17 matrix with zeros\n",
        "Kitchen_Customer_Distances_Matrix = np.zeros((17, 17))\n",
        "# Helper function to find index of labels\n",
        "def index(label):\n",
        "    return labels.index(label)\n",
        "\n",
        "# Define the distances between kitchens and customers\n",
        "Kitchen_Customer_Distances = [\n",
        " ('K1', 'K2', 7.2), ('K1', 'C1', 0.55), ('K1', 'C2', 1.3), ('K1', 'C3', 1.5), ('K1', 'C4', 0.7), ('K1', 'C5', 1.4), ('K1', 'C6', 5.8), ('K1', 'C7', 6.3), ('K1', 'C8', 6.8), ('K1', 'C9', 6.5), ('K1', 'C10', 6), ('K1', 'C11', 0.65), ('K1', 'C12', 2), ('K1', 'C13', 1.2), ('K1', 'C14', 1.3), ('K1', 'C15', 0.65),\n",
        " ('K2', 'C1', 7.1), ('K2', 'C2', 6), ('K2', 'C3', 6.8), ('K2', 'C4', 8.3), ('K2', 'C5', 6.4), ('K2', 'C6', 3.5), ('K2', 'C7', 0.55), ('K2', 'C8', 0.45), ('K2', 'C9', 0.8), ('K2', 'C10', 0.85), ('K2', 'C11', 7.2), ('K2', 'C12', 5.6), ('K2', 'C13', 6), ('K2', 'C14', 8), ('K2', 'C15', 7.1),\n",
        " ('C1', 'C2', 1.9), ('C1', 'C3', 1.7), ('C1', 'C4', 1.1), ('C1', 'C5', 2.1), ('C1', 'C6', 6.5), ('C1', 'C7', 6.4), ('C1', 'C8', 6.9), ('C1', 'C9', 6.6), ('C1', 'C10', 6), ('C1', 'C11', 1.4), ('C1', 'C12', 2.7), ('C1', 'C13', 1.9), ('C1', 'C14', 1.1), ('C1', 'C15', 0.4),\n",
        " ('C2', 'C3', 1.6), ('C2', 'C4', 1.7), ('C2', 'C5', 0.5), ('C2', 'C6', 4.6), ('C2', 'C7', 4.9), ('C2', 'C8', 5.7), ('C2', 'C9', 5.4), ('C2', 'C10', 5.2), ('C2', 'C11', 2), ('C2', 'C12', 1.2), ('C2', 'C13', 0.4), ('C2', 'C14', 2.7), ('C2', 'C15', 2),\n",
        " ('C3', 'C4', 1.1), ('C3', 'C5', 1), ('C3', 'C6', 4.8), ('C3', 'C7', 5.1), ('C3', 'C8', 5.9), ('C3', 'C9', 5.6), ('C3', 'C10', 5.4), ('C3', 'C11', 1.6), ('C3', 'C12', 1.4), ('C3', 'C13', 0.26), ('C3', 'C14', 2.9), ('C3', 'C15', 2.2),\n",
        " ('C4', 'C5', 1.8), ('C4', 'C6', 6.2), ('C4', 'C7', 6.7), ('C4', 'C8', 7.2), ('C4', 'C9', 6.9), ('C4', 'C10', 6.4), ('C4', 'C11', 1.1), ('C4', 'C12', 2.4), ('C4', 'C13', 1.1), ('C4', 'C14', 1.8), ('C4', 'C15', 1.2),\n",
        " ('C5', 'C6', 5), ('C5', 'C7', 6.2), ('C5', 'C8', 6.7), ('C5', 'C9', 6.4), ('C5', 'C10', 5.8), ('C5', 'C11', 1), ('C5', 'C12', 1.6), ('C5', 'C13', 0.8), ('C5', 'C14', 2.3), ('C5', 'C15', 1.7),\n",
        " ('C6', 'C7', 1.7), ('C6', 'C8', 2.9), ('C6', 'C9', 2.5), ('C6', 'C10', 2.6), ('C6', 'C11', 5.1), ('C6', 'C12', 4.2), ('C6', 'C13', 4.6), ('C6', 'C14', 7.2), ('C6', 'C15', 6.5),\n",
        " ('C7', 'C8', 1.6), ('C7', 'C9', 0.85), ('C7', 'C10', 0.9), ('C7', 'C11', 6.2), ('C7', 'C12', 4.5), ('C7', 'C13', 4.9), ('C7', 'C14', 7.6), ('C7', 'C15', 6.7),\n",
        " ('C8', 'C9', 1.3), ('C8', 'C10', 0.9), ('C8', 'C11', 6.9), ('C8', 'C12', 5.3), ('C8', 'C13', 5.7), ('C8', 'C14', 7.6), ('C8', 'C15', 6.8),\n",
        " ('C9', 'C10', 0.6), ('C9', 'C11', 6.6), ('C9', 'C12', 5), ('C9', 'C13', 5.4), ('C9', 'C14', 7.3), ('C9', 'C15', 6.4),\n",
        " ('C10', 'C11', 6.5), ('C10', 'C12', 4.5), ('C10', 'C13', 4.9), ('C10', 'C14', 6.7), ('C10', 'C15', 5.9),\n",
        " ('C11', 'C12', 3.1), ('C11', 'C13', 1.3),('C11', 'C14', 2.1), ('C11', 'C15', 1.5),\n",
        " ('C12', 'C13', 0.4), ('C12', 'C14', 2.7),('C12', 'C15', 2),\n",
        " ('C13', 'C14', 2.6), ('C13', 'C15', 2),\n",
        " ('C14', 'C15', 1.2)]\n",
        "\n",
        "# Fill the matrix\n",
        "for src, dest, dist in Kitchen_Customer_Distances:\n",
        "    i, j = index(src), index(dest)\n",
        "    Kitchen_Customer_Distances_Matrix[i][j] = Kitchen_Customer_Distances_Matrix[j][i] = dist\n",
        "\n",
        "# Print the matrix\n",
        "print(Kitchen_Customer_Distances_Matrix)\n",
        "\n",
        "#TIME MATRIX\n",
        "Kitchen_Customer_Time_Matrix = np.zeros((17, 17))\n",
        "# Helper function to find index of labels\n",
        "def index(label):\n",
        "    return labels.index(label)\n",
        "\n",
        "# Define the distances between kitchens and customers\n",
        "Kitchen_Customer_Time = [\n",
        " ('K1', 'K2', 16), ('K1', 'C1', 8), ('K1', 'C2', 3), ('K1', 'C3', 6), ('K1', 'C4', 10), ('K1', 'C5', 4), ('K1', 'C6', 14), ('K1', 'C7', 15), ('K1', 'C8', 15), ('K1', 'C9', 15), ('K1', 'C10', 14), ('K1', 'C11', 9), ('K1', 'C12', 5), ('K1', 'C13', 4), ('K1', 'C14', 4), ('K1', 'C15', 9),\n",
        " ('K2', 'C1', 17), ('K2', 'C2', 16), ('K2', 'C3', 18), ('K2', 'C4', 21), ('K2', 'C5', 17), ('K2', 'C6', 11), ('K2', 'C7', 8), ('K2', 'C8', 6), ('K2', 'C9', 11), ('K2', 'C10', 12), ('K2', 'C11', 17), ('K2', 'C12', 15), ('K2', 'C13', 17), ('K2', 'C14', 19), ('K2', 'C15', 17),\n",
        " ('C1', 'C2', 5), ('C1', 'C3', 6), ('C1', 'C4', 4), ('C1', 'C5', 6), ('C1', 'C6', 17), ('C1', 'C7', 16), ('C1', 'C8', 16), ('C1', 'C9', 16), ('C1', 'C10', 14), ('C1', 'C11', 4), ('C1', 'C12', 8), ('C1', 'C13', 6), ('C1', 'C14', 14), ('C1', 'C15', 6),\n",
        " ('C2', 'C3', 23), ('C2', 'C4', 5), ('C2', 'C5', 7), ('C2', 'C6', 13), ('C2', 'C7', 14), ('C2', 'C8', 16), ('C2', 'C9', 16), ('C2', 'C10', 14), ('C2', 'C11', 28), ('C2', 'C12', 4), ('C2', 'C13', 2), ('C2', 'C14', 7), ('C2', 'C15', 6),\n",
        " ('C3', 'C4', 4), ('C3', 'C5', 4), ('C3', 'C6', 14), ('C3', 'C7', 15), ('C3', 'C8', 17), ('C3', 'C9', 16), ('C3', 'C10', 15), ('C3', 'C11', 5), ('C3', 'C12', 5), ('C3', 'C13', 1), ('C3', 'C14', 8), ('C3', 'C15', 7),\n",
        " ('C4', 'C5', 6), ('C4', 'C6', 17), ('C4', 'C7', 17), ('C4', 'C8', 18), ('C4', 'C9', 18), ('C4', 'C10', 16), ('C4', 'C11', 4), ('C4', 'C12', 7), ('C4', 'C13', 5), ('C4', 'C14', 5), ('C4', 'C15', 5),\n",
        " ('C5', 'C6', 14), ('C5', 'C7', 16), ('C5', 'C8', 16), ('C5', 'C9', 16), ('C5', 'C10', 14), ('C5', 'C11', 3), ('C5', 'C12', 5), ('C5', 'C13', 4), ('C5', 'C14', 7), ('C5', 'C15', 5),\n",
        " ('C6', 'C7', 6), ('C6', 'C8', 10), ('C6', 'C9', 10), ('C6', 'C10', 9), ('C6', 'C11', 11), ('C6', 'C12', 12), ('C6', 'C13', 14), ('C6', 'C14', 17), ('C6', 'C15', 16),\n",
        " ('C7', 'C8', 5), ('C7', 'C9', 4), ('C7', 'C10', 3),('C7', 'C11', 15), ('C7', 'C12', 13), ('C7', 'C13', 15), ('C7', 'C14', 19), ('C7', 'C15', 17),\n",
        " ('C8', 'C9', 4), ('C8', 'C10', 3), ('C8', 'C11', 16), ('C8', 'C12', 14), ('C8', 'C13', 16), ('C8', 'C14', 19), ('C8', 'C15', 17),\n",
        " ('C9', 'C10', 3), ('C9', 'C11', 16), ('C9', 'C12', 14), ('C9', 'C13', 16), ('C9', 'C14', 18), ('C9', 'C15', 17),\n",
        " ('C10', 'C11', 15), ('C10', 'C12', 13), ('C10', 'C13', 15), ('C10', 'C14', 17), ('C10', 'C15', 15),\n",
        " ('C11', 'C12', 7), ('C11', 'C13', 4), ('C11', 'C14', 6), ('C11', 'C15', 4),\n",
        " ('C12', 'C13', 2), ('C12', 'C14', 7), ('C12', 'C15', 6),\n",
        " ('C13', 'C14', 8), ('C13', 'C15', 6),\n",
        " ('C14', 'C15', 3)\n",
        " ]\n",
        "\n",
        "# Fill the matrix\n",
        "for src, dest, dist in Kitchen_Customer_Time:\n",
        "    i, j = index(src), index(dest)\n",
        "    Kitchen_Customer_Time_Matrix[i][j] = Kitchen_Customer_Time_Matrix[j][i] = dist\n",
        "\n",
        "# Print the matrix\n",
        "print(Kitchen_Customer_Time_Matrix)"
      ],
      "metadata": {
        "colab": {
          "base_uri": "https://localhost:8080/"
        },
        "id": "9sOvRW-P7pWf",
        "outputId": "28f4599f-dbe2-442b-e37f-ac6ba82e25fe"
      },
      "execution_count": null,
      "outputs": [
        {
          "output_type": "stream",
          "name": "stdout",
          "text": [
            "[[0.   7.2  0.55 1.3  1.5  0.7  1.4  5.8  6.3  6.8  6.5  6.   0.65 2.\n",
            "  1.2  1.3  0.65]\n",
            " [7.2  0.   7.1  6.   6.8  8.3  6.4  3.5  0.55 0.45 0.8  0.85 7.2  5.6\n",
            "  6.   8.   7.1 ]\n",
            " [0.55 7.1  0.   1.9  1.7  1.1  2.1  6.5  6.4  6.9  6.6  6.   1.4  2.7\n",
            "  1.9  1.1  0.4 ]\n",
            " [1.3  6.   1.9  0.   1.6  1.7  0.5  4.6  4.9  5.7  5.4  5.2  2.   1.2\n",
            "  0.4  2.7  2.  ]\n",
            " [1.5  6.8  1.7  1.6  0.   1.1  1.   4.8  5.1  5.9  5.6  5.4  1.6  1.4\n",
            "  0.26 2.9  2.2 ]\n",
            " [0.7  8.3  1.1  1.7  1.1  0.   1.8  6.2  6.7  7.2  6.9  6.4  1.1  2.4\n",
            "  1.1  1.8  1.2 ]\n",
            " [1.4  6.4  2.1  0.5  1.   1.8  0.   5.   6.2  6.7  6.4  5.8  1.   1.6\n",
            "  0.8  2.3  1.7 ]\n",
            " [5.8  3.5  6.5  4.6  4.8  6.2  5.   0.   1.7  2.9  2.5  2.6  5.1  4.2\n",
            "  4.6  7.2  6.5 ]\n",
            " [6.3  0.55 6.4  4.9  5.1  6.7  6.2  1.7  0.   1.6  0.85 0.9  6.2  4.5\n",
            "  4.9  7.6  6.7 ]\n",
            " [6.8  0.45 6.9  5.7  5.9  7.2  6.7  2.9  1.6  0.   1.3  0.9  6.9  5.3\n",
            "  5.7  7.6  6.8 ]\n",
            " [6.5  0.8  6.6  5.4  5.6  6.9  6.4  2.5  0.85 1.3  0.   0.6  6.6  5.\n",
            "  5.4  7.3  6.4 ]\n",
            " [6.   0.85 6.   5.2  5.4  6.4  5.8  2.6  0.9  0.9  0.6  0.   6.5  4.5\n",
            "  4.9  6.7  5.9 ]\n",
            " [0.65 7.2  1.4  2.   1.6  1.1  1.   5.1  6.2  6.9  6.6  6.5  0.   3.1\n",
            "  1.3  2.1  1.5 ]\n",
            " [2.   5.6  2.7  1.2  1.4  2.4  1.6  4.2  4.5  5.3  5.   4.5  3.1  0.\n",
            "  0.4  2.7  2.  ]\n",
            " [1.2  6.   1.9  0.4  0.26 1.1  0.8  4.6  4.9  5.7  5.4  4.9  1.3  0.4\n",
            "  0.   2.6  2.  ]\n",
            " [1.3  8.   1.1  2.7  2.9  1.8  2.3  7.2  7.6  7.6  7.3  6.7  2.1  2.7\n",
            "  2.6  0.   1.2 ]\n",
            " [0.65 7.1  0.4  2.   2.2  1.2  1.7  6.5  6.7  6.8  6.4  5.9  1.5  2.\n",
            "  2.   1.2  0.  ]]\n",
            "[[ 0. 16.  8.  3.  6. 10.  4. 14. 15. 15. 15. 14.  9.  5.  4.  4.  9.]\n",
            " [16.  0. 17. 16. 18. 21. 17. 11.  8.  6. 11. 12. 17. 15. 17. 19. 17.]\n",
            " [ 8. 17.  0.  5.  6.  4.  6. 17. 16. 16. 16. 14.  4.  8.  6. 14.  6.]\n",
            " [ 3. 16.  5.  0. 23.  5.  7. 13. 14. 16. 16. 14. 28.  4.  2.  7.  6.]\n",
            " [ 6. 18.  6. 23.  0.  4.  4. 14. 15. 17. 16. 15.  5.  5.  1.  8.  7.]\n",
            " [10. 21.  4.  5.  4.  0.  6. 17. 17. 18. 18. 16.  4.  7.  5.  5.  5.]\n",
            " [ 4. 17.  6.  7.  4.  6.  0. 14. 16. 16. 16. 14.  3.  5.  4.  7.  5.]\n",
            " [14. 11. 17. 13. 14. 17. 14.  0.  6. 10. 10.  9. 11. 12. 14. 17. 16.]\n",
            " [15.  8. 16. 14. 15. 17. 16.  6.  0.  5.  4.  3. 15. 13. 15. 19. 17.]\n",
            " [15.  6. 16. 16. 17. 18. 16. 10.  5.  0.  4.  3. 16. 14. 16. 19. 17.]\n",
            " [15. 11. 16. 16. 16. 18. 16. 10.  4.  4.  0.  3. 16. 14. 16. 18. 17.]\n",
            " [14. 12. 14. 14. 15. 16. 14.  9.  3.  3.  3.  0. 15. 13. 15. 17. 15.]\n",
            " [ 9. 17.  4. 28.  5.  4.  3. 11. 15. 16. 16. 15.  0.  7.  4.  6.  4.]\n",
            " [ 5. 15.  8.  4.  5.  7.  5. 12. 13. 14. 14. 13.  7.  0.  2.  7.  6.]\n",
            " [ 4. 17.  6.  2.  1.  5.  4. 14. 15. 16. 16. 15.  4.  2.  0.  8.  6.]\n",
            " [ 4. 19. 14.  7.  8.  5.  7. 17. 19. 19. 18. 17.  6.  7.  8.  0.  3.]\n",
            " [ 9. 17.  6.  6.  7.  5.  5. 16. 17. 17. 17. 15.  4.  6.  6.  3.  0.]]\n"
          ]
        }
      ]
    },
    {
      "cell_type": "code",
      "source": [
        "#(ii)Kitchen & Riders\n",
        "\n",
        "# Define labels for kitchens and rooms\n",
        "kitchen_labels = ['K1', 'K2']\n",
        "rider_labels = ['R1', 'R2', 'R3', 'R4', 'R5', 'R6', 'R7', 'R8', 'R9', 'R10', 'R11', 'R12', 'R13', 'R14', 'R15', 'R16', 'R17', 'R18', 'R19', 'R20']\n",
        "\n",
        "# Initialize 2x20 matrices with zeros for distances and times from kitchens to rooms\n",
        "Kitchen_Rider_Distances_Matrix = np.zeros((2, 20))\n",
        "Kitchen_Rider_Time_Matrix = np.zeros((2, 20))\n",
        "\n",
        "# Distance data from kitchens to rooms\n",
        "distance_data = {\n",
        "    ('K1', 'R1'): 0.950, ('K1', 'R2'): 0.700, ('K1', 'R3'): 2.3, ('K1', 'R4'): 6, ('K1', 'R5'): 7, ('K1', 'R6'): 1.2,\n",
        "    ('K1', 'R7'): 12.7, ('K1', 'R8'): 8.3, ('K1', 'R9'): 8.9, ('K1', 'R10'): 14.4, ('K1', 'R11'): 9, ('K1', 'R12'): 1.8,\n",
        "    ('K1', 'R13'): 5.2, ('K1', 'R14'): 9.5, ('K1', 'R15'): 4.1, ('K1', 'R16'): 14.4, ('K1', 'R17'): 10.4, ('K1', 'R18'): 16.8,\n",
        "    ('K1', 'R19'): 11.4, ('K1', 'R20'): 6.1,\n",
        "    ('K2', 'R1'): 6, ('K2', 'R2'): 7, ('K2', 'R3'): 8.8, ('K2', 'R4'): 2.6, ('K2', 'R5'): 1.5, ('K2', 'R6'): 7.9,\n",
        "    ('K2', 'R7'): 10, ('K2', 'R8'): 7.7, ('K2', 'R9'): 5.9, ('K2', 'R10'): 11.4, ('K2', 'R11'): 14.2, ('K2', 'R12'): 6.6,\n",
        "    ('K2', 'R13'): 11.9, ('K2', 'R14'): 15.9, ('K2', 'R15'): 9.2, ('K2', 'R16'): 20.9, ('K2', 'R17'): 7.8, ('K2', 'R18'): 10.7,\n",
        "    ('K2', 'R19'): 10.5, ('K2', 'R20'): 11.6\n",
        "}\n",
        "\n",
        "# Time data from kitchens to rooms\n",
        "time_data = {\n",
        "    ('K1', 'R1'): 2, ('K1', 'R2'): 3, ('K1', 'R3'): 6, ('K1', 'R4'): 14, ('K1', 'R5'): 17, ('K1', 'R6'): 3,\n",
        "    ('K1', 'R7'): 28, ('K1', 'R8'): 17, ('K1', 'R9'): 16, ('K1', 'R10'): 28, ('K1', 'R11'): 19, ('K1', 'R12'): 5,\n",
        "    ('K1', 'R13'): 13, ('K1', 'R14'): 21, ('K1', 'R15'): 10, ('K1', 'R16'): 29, ('K1', 'R17'): 22, ('K1', 'R18'): 31,\n",
        "    ('K1', 'R19'): 22, ('K1', 'R20'): 17,\n",
        "    ('K2', 'R1'): 16, ('K2', 'R2'): 18, ('K2', 'R3'): 22, ('K2', 'R4'): 8, ('K2', 'R5'): 5, ('K2', 'R6'): 19,\n",
        "    ('K2', 'R7'): 27, ('K2', 'R8'): 18, ('K2', 'R9'): 14, ('K2', 'R10'): 26, ('K2', 'R11'): 31, ('K2', 'R12'): 16,\n",
        "    ('K2', 'R13'): 29, ('K2', 'R14'): 34, ('K2', 'R15'): 22, ('K2', 'R16'): 42, ('K2', 'R17'): 22, ('K2', 'R18'): 22,\n",
        "    ('K2', 'R19'): 23, ('K2', 'R20'): 30\n",
        "}\n",
        "\n",
        "# Helper function to find index of kitchen and room labels\n",
        "def kitchen_index(kitchen):\n",
        "    return kitchen_labels.index(kitchen)\n",
        "\n",
        "def rider_index(room):\n",
        "    return rider_labels.index(room)\n",
        "\n",
        "# Fill the distance and time matrices\n",
        "for (kitchen, r), dist in distance_data.items():\n",
        "    i, j = kitchen_index(kitchen), rider_index(r)\n",
        "    Kitchen_Rider_Distances_Matrix[i][j] = dist\n",
        "\n",
        "for (kitchen, r), time in time_data.items():\n",
        "    i, j = kitchen_index(kitchen), rider_index(r)\n",
        "    Kitchen_Rider_Time_Matrix[i][j] = time\n",
        "\n",
        "# Output the matrices\n",
        "print(\"Distance Matrix:\")\n",
        "print(Kitchen_Rider_Distances_Matrix)\n",
        "print(\"\\nTime Matrix:\")\n",
        "print(Kitchen_Rider_Time_Matrix)\n",
        "\n"
      ],
      "metadata": {
        "colab": {
          "base_uri": "https://localhost:8080/"
        },
        "id": "96g4I9iP7yEC",
        "outputId": "839f5981-c01d-4023-e940-963022eeda75"
      },
      "execution_count": null,
      "outputs": [
        {
          "output_type": "stream",
          "name": "stdout",
          "text": [
            "Distance Matrix:\n",
            "[[ 0.95  0.7   2.3   6.    7.    1.2  12.7   8.3   8.9  14.4   9.    1.8\n",
            "   5.2   9.5   4.1  14.4  10.4  16.8  11.4   6.1 ]\n",
            " [ 6.    7.    8.8   2.6   1.5   7.9  10.    7.7   5.9  11.4  14.2   6.6\n",
            "  11.9  15.9   9.2  20.9   7.8  10.7  10.5  11.6 ]]\n",
            "\n",
            "Time Matrix:\n",
            "[[ 2.  3.  6. 14. 17.  3. 28. 17. 16. 28. 19.  5. 13. 21. 10. 29. 22. 31.\n",
            "  22. 17.]\n",
            " [16. 18. 22.  8.  5. 19. 27. 18. 14. 26. 31. 16. 29. 34. 22. 42. 22. 22.\n",
            "  23. 30.]]\n"
          ]
        }
      ]
    },
    {
      "cell_type": "code",
      "source": [
        "# Sort orders based on their order ready time\n",
        "sorted_orders = sorted(orders, key=lambda x: x.order_ready_time)"
      ],
      "metadata": {
        "id": "l6nRhZz-75RD"
      },
      "execution_count": null,
      "outputs": []
    },
    {
      "cell_type": "code",
      "source": [
        "# Step 2: Initialize groups\n",
        "group1_orders = []  # Orders from customers who only ordered from kitchen 1\n",
        "group2_orders = []  # Orders from customers who only ordered from kitchen 2\n",
        "group3_orders = []  # Orders from customers who ordered from both kitchens\n",
        "\n",
        "# Step 3: Iterate through each unique customer in the orders list\n",
        "unique_customers = set(order.drop_off_location for order in sorted_orders)\n",
        "\n",
        "for customer in unique_customers:\n",
        "    # Step 4: Determine which group the customer belongs to\n",
        "    kitchens_ordered_from = set(order.kitchen_id for order in sorted_orders if order.drop_off_location == customer)\n",
        "\n",
        "    if 'K1' in kitchens_ordered_from and 'K2' not in kitchens_ordered_from:\n",
        "        group1_orders.extend([order for order in sorted_orders if order.drop_off_location == customer])\n",
        "    elif 'K2' in kitchens_ordered_from and 'K1' not in kitchens_ordered_from:\n",
        "        group2_orders.extend([order for order in sorted_orders if order.drop_off_location == customer])\n",
        "    else:\n",
        "        group3_orders.extend([order for order in sorted_orders if order.drop_off_location == customer])\n",
        "\n",
        "print(group1_orders)\n",
        "print(\"*****************************\")\n",
        "print(group2_orders)\n",
        "print(\"*****************************\")\n",
        "print(group3_orders)\n",
        "print(\"*****************************\")"
      ],
      "metadata": {
        "colab": {
          "base_uri": "https://localhost:8080/"
        },
        "id": "k5o1eXuJc_Lu",
        "outputId": "dc483510-395e-49ea-e5d2-a523f0873a22"
      },
      "execution_count": null,
      "outputs": [
        {
          "output_type": "stream",
          "name": "stdout",
          "text": [
            "[OrderDetail(order_id='Order 8', food_items=[FoodItem(name='Salad', preparation_time=8), FoodItem(name='Variety Rice', preparation_time=9), FoodItem(name='Idli', preparation_time=30), FoodItem(name='Meals', preparation_time=10)], kitchen_id='K1', pick_up_location=Location(address='K1', latitude=11.00555, longitude=76.96612), drop_off_location=Location(address='Customer 9', latitude=11.02879, longitude=77.00213), order_time=datetime.datetime(2024, 3, 2, 3, 43, 35, 605735), order_ready_time=datetime.datetime(2024, 3, 2, 4, 2, 35, 605735))]\n",
            "*****************************\n",
            "[OrderDetail(order_id='Order 22', food_items=[FoodItem(name='Variety Rice', preparation_time=9), FoodItem(name='Salad', preparation_time=8)], kitchen_id='K2', pick_up_location=Location(address='K2', latitude=11.03333, longitude=77), drop_off_location=Location(address='Customer 13', latitude=10.99712, longitude=76.96569), order_time=datetime.datetime(2024, 3, 2, 3, 43, 35, 605932), order_ready_time=datetime.datetime(2024, 3, 2, 4, 1, 35, 605932)), OrderDetail(order_id='Order 15', food_items=[FoodItem(name='Salad', preparation_time=8), FoodItem(name='Variety Rice', preparation_time=9)], kitchen_id='K2', pick_up_location=Location(address='K2', latitude=11.03333, longitude=77), drop_off_location=Location(address='Customer 0', latitude=11.00155, longitude=76.96612), order_time=datetime.datetime(2024, 3, 2, 3, 43, 35, 605840), order_ready_time=datetime.datetime(2024, 3, 2, 4, 0, 35, 605840)), OrderDetail(order_id='Order 25', food_items=[FoodItem(name='Variety Rice', preparation_time=9), FoodItem(name='Meals', preparation_time=10), FoodItem(name='Idli', preparation_time=30), FoodItem(name='Poori', preparation_time=17)], kitchen_id='K2', pick_up_location=Location(address='K2', latitude=11.03333, longitude=77), drop_off_location=Location(address='Customer 5', latitude=11.03521, longitude=76.99256), order_time=datetime.datetime(2024, 3, 2, 3, 43, 35, 605971), order_ready_time=datetime.datetime(2024, 3, 2, 4, 6, 35, 605971)), OrderDetail(order_id='Order 9', food_items=[FoodItem(name='Idli', preparation_time=30), FoodItem(name='Meals', preparation_time=10), FoodItem(name='Salad', preparation_time=8)], kitchen_id='K2', pick_up_location=Location(address='K2', latitude=11.03333, longitude=77), drop_off_location=Location(address='Customer 5', latitude=11.03521, longitude=76.99256), order_time=datetime.datetime(2024, 3, 2, 3, 43, 35, 605749), order_ready_time=datetime.datetime(2024, 3, 2, 4, 7, 35, 605749)), OrderDetail(order_id='Order 10', food_items=[FoodItem(name='Poori', preparation_time=17), FoodItem(name='Idli', preparation_time=30), FoodItem(name='Salad', preparation_time=8), FoodItem(name='Variety Rice', preparation_time=9), FoodItem(name='Meals', preparation_time=10)], kitchen_id='K2', pick_up_location=Location(address='K2', latitude=11.03333, longitude=77), drop_off_location=Location(address='Customer 5', latitude=11.03521, longitude=76.99256), order_time=datetime.datetime(2024, 3, 2, 3, 43, 35, 605765), order_ready_time=datetime.datetime(2024, 3, 2, 4, 7, 35, 605765)), OrderDetail(order_id='Order 5', food_items=[FoodItem(name='Meals', preparation_time=10)], kitchen_id='K2', pick_up_location=Location(address='K2', latitude=11.03333, longitude=77), drop_off_location=Location(address='Customer 5', latitude=11.03521, longitude=76.99256), order_time=datetime.datetime(2024, 3, 2, 3, 43, 35, 605692), order_ready_time=datetime.datetime(2024, 3, 2, 4, 9, 35, 605692)), OrderDetail(order_id='Order 24', food_items=[FoodItem(name='Variety Rice', preparation_time=9), FoodItem(name='Meals', preparation_time=10), FoodItem(name='Poori', preparation_time=17), FoodItem(name='Idli', preparation_time=30), FoodItem(name='Salad', preparation_time=8)], kitchen_id='K2', pick_up_location=Location(address='K2', latitude=11.03333, longitude=77), drop_off_location=Location(address='Customer 10', latitude=11.01144, longitude=76.96747), order_time=datetime.datetime(2024, 3, 2, 3, 43, 35, 605957), order_ready_time=datetime.datetime(2024, 3, 2, 3, 54, 35, 605957)), OrderDetail(order_id='Order 12', food_items=[FoodItem(name='Variety Rice', preparation_time=9), FoodItem(name='Poori', preparation_time=17), FoodItem(name='Salad', preparation_time=8), FoodItem(name='Idli', preparation_time=30), FoodItem(name='Meals', preparation_time=10)], kitchen_id='K2', pick_up_location=Location(address='K2', latitude=11.03333, longitude=77), drop_off_location=Location(address='Customer 2', latitude=11.01378, longitude=76.96423), order_time=datetime.datetime(2024, 3, 2, 3, 43, 35, 605798), order_ready_time=datetime.datetime(2024, 3, 2, 3, 55, 35, 605798)), OrderDetail(order_id='Order 19', food_items=[FoodItem(name='Poori', preparation_time=17)], kitchen_id='K2', pick_up_location=Location(address='K2', latitude=11.03333, longitude=77), drop_off_location=Location(address='Customer 11', latitude=11.01637, longitude=76.96875), order_time=datetime.datetime(2024, 3, 2, 3, 43, 35, 605892), order_ready_time=datetime.datetime(2024, 3, 2, 4, 2, 35, 605892)), OrderDetail(order_id='Order 13', food_items=[FoodItem(name='Idli', preparation_time=30), FoodItem(name='Salad', preparation_time=8), FoodItem(name='Poori', preparation_time=17)], kitchen_id='K2', pick_up_location=Location(address='K2', latitude=11.03333, longitude=77), drop_off_location=Location(address='Customer 11', latitude=11.01637, longitude=76.96875), order_time=datetime.datetime(2024, 3, 2, 3, 43, 35, 605813), order_ready_time=datetime.datetime(2024, 3, 2, 4, 7, 35, 605813)), OrderDetail(order_id='Order 3', food_items=[FoodItem(name='Meals', preparation_time=10)], kitchen_id='K2', pick_up_location=Location(address='K2', latitude=11.03333, longitude=77), drop_off_location=Location(address='Customer 14', latitude=11.00036, longitude=76.96445), order_time=datetime.datetime(2024, 3, 2, 3, 43, 35, 605663), order_ready_time=datetime.datetime(2024, 3, 2, 4, 1, 35, 605663))]\n",
            "*****************************\n",
            "[OrderDetail(order_id='Order 7', food_items=[FoodItem(name='Idli', preparation_time=30)], kitchen_id='K1', pick_up_location=Location(address='K1', latitude=11.00555, longitude=76.96612), drop_off_location=Location(address='Customer 6', latitude=11.03285, longitude=76.99872), order_time=datetime.datetime(2024, 3, 2, 3, 43, 35, 605721), order_ready_time=datetime.datetime(2024, 3, 2, 4, 3, 35, 605721)), OrderDetail(order_id='Order 11', food_items=[FoodItem(name='Idli', preparation_time=30), FoodItem(name='Meals', preparation_time=10), FoodItem(name='Poori', preparation_time=17), FoodItem(name='Variety Rice', preparation_time=9)], kitchen_id='K2', pick_up_location=Location(address='K2', latitude=11.03333, longitude=77), drop_off_location=Location(address='Customer 6', latitude=11.03285, longitude=76.99872), order_time=datetime.datetime(2024, 3, 2, 3, 43, 35, 605782), order_ready_time=datetime.datetime(2024, 3, 2, 4, 8, 35, 605782)), OrderDetail(order_id='Order 4', food_items=[FoodItem(name='Poori', preparation_time=17), FoodItem(name='Meals', preparation_time=10), FoodItem(name='Idli', preparation_time=30), FoodItem(name='Variety Rice', preparation_time=9), FoodItem(name='Salad', preparation_time=8)], kitchen_id='K1', pick_up_location=Location(address='K1', latitude=11.00555, longitude=76.96612), drop_off_location=Location(address='Customer 8', latitude=11.03188, longitude=77.00568), order_time=datetime.datetime(2024, 3, 2, 3, 43, 35, 605680), order_ready_time=datetime.datetime(2024, 3, 2, 3, 54, 35, 605680)), OrderDetail(order_id='Order 6', food_items=[FoodItem(name='Idli', preparation_time=30), FoodItem(name='Meals', preparation_time=10), FoodItem(name='Salad', preparation_time=8)], kitchen_id='K2', pick_up_location=Location(address='K2', latitude=11.03333, longitude=77), drop_off_location=Location(address='Customer 8', latitude=11.03188, longitude=77.00568), order_time=datetime.datetime(2024, 3, 2, 3, 43, 35, 605707), order_ready_time=datetime.datetime(2024, 3, 2, 4, 8, 35, 605707)), OrderDetail(order_id='Order 14', food_items=[FoodItem(name='Poori', preparation_time=17), FoodItem(name='Meals', preparation_time=10), FoodItem(name='Idli', preparation_time=30)], kitchen_id='K1', pick_up_location=Location(address='K1', latitude=11.00555, longitude=76.96612), drop_off_location=Location(address='Customer 8', latitude=11.03188, longitude=77.00568), order_time=datetime.datetime(2024, 3, 2, 3, 43, 35, 605827), order_ready_time=datetime.datetime(2024, 3, 2, 4, 8, 35, 605827)), OrderDetail(order_id='Order 20', food_items=[FoodItem(name='Variety Rice', preparation_time=9), FoodItem(name='Meals', preparation_time=10), FoodItem(name='Salad', preparation_time=8), FoodItem(name='Poori', preparation_time=17), FoodItem(name='Idli', preparation_time=30)], kitchen_id='K1', pick_up_location=Location(address='K1', latitude=11.00555, longitude=76.96612), drop_off_location=Location(address='Customer 8', latitude=11.03188, longitude=77.00568), order_time=datetime.datetime(2024, 3, 2, 3, 43, 35, 605907), order_ready_time=datetime.datetime(2024, 3, 2, 4, 9, 35, 605907)), OrderDetail(order_id='Order 16', food_items=[FoodItem(name='Idli', preparation_time=30), FoodItem(name='Variety Rice', preparation_time=9)], kitchen_id='K2', pick_up_location=Location(address='K2', latitude=11.03333, longitude=77), drop_off_location=Location(address='Customer 8', latitude=11.03188, longitude=77.00568), order_time=datetime.datetime(2024, 3, 2, 3, 43, 35, 605853), order_ready_time=datetime.datetime(2024, 3, 2, 4, 11, 35, 605853)), OrderDetail(order_id='Order 17', food_items=[FoodItem(name='Meals', preparation_time=10)], kitchen_id='K2', pick_up_location=Location(address='K2', latitude=11.03333, longitude=77), drop_off_location=Location(address='Customer 4', latitude=11.01217, longitude=76.96931), order_time=datetime.datetime(2024, 3, 2, 3, 43, 35, 605865), order_ready_time=datetime.datetime(2024, 3, 2, 3, 58, 35, 605865)), OrderDetail(order_id='Order 23', food_items=[FoodItem(name='Variety Rice', preparation_time=9), FoodItem(name='Meals', preparation_time=10)], kitchen_id='K1', pick_up_location=Location(address='K1', latitude=11.00555, longitude=76.96612), drop_off_location=Location(address='Customer 4', latitude=11.01217, longitude=76.96931), order_time=datetime.datetime(2024, 3, 2, 3, 43, 35, 605944), order_ready_time=datetime.datetime(2024, 3, 2, 3, 58, 35, 605944)), OrderDetail(order_id='Order 18', food_items=[FoodItem(name='Variety Rice', preparation_time=9), FoodItem(name='Poori', preparation_time=17), FoodItem(name='Salad', preparation_time=8), FoodItem(name='Idli', preparation_time=30)], kitchen_id='K1', pick_up_location=Location(address='K1', latitude=11.00555, longitude=76.96612), drop_off_location=Location(address='Customer 4', latitude=11.01217, longitude=76.96931), order_time=datetime.datetime(2024, 3, 2, 3, 43, 35, 605880), order_ready_time=datetime.datetime(2024, 3, 2, 4, 5, 35, 605880)), OrderDetail(order_id='Order 1', food_items=[FoodItem(name='Meals', preparation_time=10), FoodItem(name='Poori', preparation_time=17)], kitchen_id='K2', pick_up_location=Location(address='K2', latitude=11.03333, longitude=77), drop_off_location=Location(address='Customer 12', latitude=11.01452, longitude=76.96631), order_time=datetime.datetime(2024, 3, 2, 3, 43, 35, 605594), order_ready_time=datetime.datetime(2024, 3, 2, 3, 58, 35, 605594)), OrderDetail(order_id='Order 2', food_items=[FoodItem(name='Meals', preparation_time=10), FoodItem(name='Salad', preparation_time=8), FoodItem(name='Poori', preparation_time=17), FoodItem(name='Idli', preparation_time=30), FoodItem(name='Variety Rice', preparation_time=9)], kitchen_id='K2', pick_up_location=Location(address='K2', latitude=11.03333, longitude=77), drop_off_location=Location(address='Customer 12', latitude=11.01452, longitude=76.96631), order_time=datetime.datetime(2024, 3, 2, 3, 43, 35, 605645), order_ready_time=datetime.datetime(2024, 3, 2, 4, 7, 35, 605645)), OrderDetail(order_id='Order 21', food_items=[FoodItem(name='Idli', preparation_time=30), FoodItem(name='Variety Rice', preparation_time=9), FoodItem(name='Salad', preparation_time=8), FoodItem(name='Meals', preparation_time=10)], kitchen_id='K1', pick_up_location=Location(address='K1', latitude=11.00555, longitude=76.96612), drop_off_location=Location(address='Customer 12', latitude=11.01452, longitude=76.96631), order_time=datetime.datetime(2024, 3, 2, 3, 43, 35, 605920), order_ready_time=datetime.datetime(2024, 3, 2, 4, 11, 35, 605920))]\n",
            "*****************************\n"
          ]
        }
      ]
    },
    {
      "cell_type": "code",
      "source": [
        "#PROCESSING GROUP 1.\n",
        "\n",
        "# Step 1: Define the labels\n",
        "labels = ['K1', 'K2', 'C1', 'C2', 'C3', 'C4', 'C5', 'C6', 'C7', 'C8', 'C9', 'C10', 'C11', 'C12', 'C13', 'C14', 'C15']\n",
        "\n",
        "# Step 2: Define a function to get the index of a label\n",
        "def index(label):\n",
        "    return labels.index(label)\n",
        "\n",
        "# Step 3: Define a function to check if the time difference between orders is less than or equal to 10 minutes\n",
        "def within_10_minutes(order1, order2):\n",
        "    return (order2.order_ready_time - order1.order_ready_time).total_seconds() <= 600\n",
        "\n",
        "# Step 4: Divide the 1st group into further subgroups based on order_ready_time\n",
        "subgroups = []\n",
        "remaining_orders = sorted(group1_orders, key=lambda x: x.order_ready_time)\n",
        "\n",
        "while remaining_orders:\n",
        "    start_order = remaining_orders.pop(0)\n",
        "    current_subgroup = [start_order]\n",
        "    end_time = start_order.order_ready_time + timedelta(minutes=10)\n",
        "\n",
        "    i = 0\n",
        "    while i < len(remaining_orders):\n",
        "        if remaining_orders[i].order_ready_time <= end_time:\n",
        "            current_subgroup.append(remaining_orders.pop(i))\n",
        "        else:\n",
        "            i += 1\n",
        "\n",
        "    subgroups.append(current_subgroup)\n",
        "\n",
        "# Print the subgroups\n",
        "print(\"AFTER THE GROUPS OF GROUP 1 ARE SUBGROUPED BASED ON READY-TIME\")\n",
        "for i, subgroup in enumerate(subgroups):\n",
        "    print(f\"Subgroup {i+1}:\")\n",
        "    for order in subgroup:\n",
        "        print(f\"Order ID: {order.order_id}, Ready Time: {order.order_ready_time}\")\n"
      ],
      "metadata": {
        "colab": {
          "base_uri": "https://localhost:8080/"
        },
        "id": "rPlaQIViKwk2",
        "outputId": "b00e84f1-f886-4889-fb6b-44eb1c4951b6"
      },
      "execution_count": null,
      "outputs": [
        {
          "output_type": "stream",
          "name": "stdout",
          "text": [
            "AFTER THE GROUPS OF GROUP 1 ARE SUBGROUPED BASED ON READY-TIME\n",
            "Subgroup 1:\n",
            "Order ID: Order 8, Ready Time: 2024-03-02 04:02:35.605735\n"
          ]
        }
      ]
    },
    {
      "cell_type": "code",
      "source": [
        "# Initialize an empty list to store the grouped orders\n",
        "Grouped_K1_ORDERS = []\n",
        "\n",
        "# Step 1: Define a function to calculate the total distance between a list of orders\n",
        "def calculate_total_distance(orders):\n",
        "    total_distance = 0\n",
        "    for i in range(len(orders) - 1):\n",
        "        loc1 = orders[i].drop_off_location[0]  # Extracting the customer label from the location\n",
        "        loc2 = orders[i + 1].drop_off_location[0]\n",
        "        index1 = int(loc1.split()[1]) - 1  # Extract the customer index from the label and convert to zero-based index\n",
        "        index2 = int(loc2.split()[1]) - 1\n",
        "        total_distance += Kitchen_Customer_Distances_Matrix[index1][index2]\n",
        "    return total_distance\n",
        "\n",
        "# Step 2: Divide each subgroup into further subgroups based on distance\n",
        "for i, subgroup in enumerate(subgroups):\n",
        "    print(f\"Subgroup {i+1}:\")\n",
        "    sub_subgroups = []\n",
        "    current_sub_subgroup = []\n",
        "\n",
        "    # Group orders from the same customer together\n",
        "    same_customer_orders = {}\n",
        "    for order in subgroup:\n",
        "        customer = order.drop_off_location[0]\n",
        "        if customer not in same_customer_orders:\n",
        "            same_customer_orders[customer] = []\n",
        "        same_customer_orders[customer].append(order)\n",
        "\n",
        "    for customer_orders in same_customer_orders.values():\n",
        "        if len(customer_orders) > 1:\n",
        "            sub_subgroups.append(customer_orders)\n",
        "        else:\n",
        "            if not current_sub_subgroup:\n",
        "                current_sub_subgroup.extend(customer_orders)\n",
        "            else:\n",
        "                # Calculate the total distance if the current order is added to the current sub-subgroup\n",
        "                current_distance = calculate_total_distance(current_sub_subgroup + customer_orders)\n",
        "\n",
        "                if current_distance <= 3:  # Check if the total distance is less than or equal to 3 km\n",
        "                    # Add the current order to the current sub-subgroup\n",
        "                    current_sub_subgroup.extend(customer_orders)\n",
        "                else:\n",
        "                    # Start a new sub-subgroup\n",
        "                    sub_subgroups.append(current_sub_subgroup)\n",
        "                    current_sub_subgroup = customer_orders\n",
        "\n",
        "    # Add the last sub-subgroup\n",
        "    if current_sub_subgroup:\n",
        "        sub_subgroups.append(current_sub_subgroup)\n",
        "\n",
        "    # Print the sub-subgroups\n",
        "    for j, sub_subgroup in enumerate(sub_subgroups):\n",
        "        print(f\"  Sub-subgroup {j+1}:\")\n",
        "        Grouped_K1_ORDERS.append(sub_subgroup)\n",
        "        for order in sub_subgroup:\n",
        "            print(f\"    Order ID: {order.order_id}, Drop-off Location: {order.drop_off_location[0]}\")\n",
        "\n",
        "    print()\n"
      ],
      "metadata": {
        "colab": {
          "base_uri": "https://localhost:8080/"
        },
        "id": "heA8j_xSpGYB",
        "outputId": "af6b5a33-2eb4-4dfd-9e72-b9a37beb609d"
      },
      "execution_count": null,
      "outputs": [
        {
          "output_type": "stream",
          "name": "stdout",
          "text": [
            "Subgroup 1:\n",
            "  Sub-subgroup 1:\n",
            "    Order ID: Order 8, Drop-off Location: Customer 9\n",
            "\n"
          ]
        }
      ]
    },
    {
      "cell_type": "code",
      "source": [
        "print(Grouped_K1_ORDERS)"
      ],
      "metadata": {
        "colab": {
          "base_uri": "https://localhost:8080/"
        },
        "id": "qmze0IHwS9b3",
        "outputId": "451ea80e-a8e3-482f-faf3-be33d97b93e7"
      },
      "execution_count": null,
      "outputs": [
        {
          "output_type": "stream",
          "name": "stdout",
          "text": [
            "[[OrderDetail(order_id='Order 8', food_items=[FoodItem(name='Salad', preparation_time=8), FoodItem(name='Variety Rice', preparation_time=9), FoodItem(name='Idli', preparation_time=30), FoodItem(name='Meals', preparation_time=10)], kitchen_id='K1', pick_up_location=Location(address='K1', latitude=11.00555, longitude=76.96612), drop_off_location=Location(address='Customer 9', latitude=11.02879, longitude=77.00213), order_time=datetime.datetime(2024, 3, 2, 3, 43, 35, 605735), order_ready_time=datetime.datetime(2024, 3, 2, 4, 2, 35, 605735))]]\n"
          ]
        }
      ]
    },
    {
      "cell_type": "code",
      "source": [
        "print(len(group3_orders))\n",
        "\n",
        "# Initialize an empty list to store the single order groups\n",
        "single_order_groups = []\n",
        "\n",
        "# Iterate through the groups in Grouped_K1_ORDERS\n",
        "for group in Grouped_K1_ORDERS:\n",
        "    # Check if the group contains only one order\n",
        "    if len(group) == 1:\n",
        "        # Append the order to group3_orders\n",
        "        group3_orders.append(group[0])\n",
        "    else:\n",
        "        # Append the group to single_order_groups\n",
        "        single_order_groups.append(group)\n",
        "\n",
        "# Remove the single-order groups from Grouped_K1_ORDERS\n",
        "Grouped_K1_ORDERS = single_order_groups\n",
        "\n",
        "print(len(group3_orders))"
      ],
      "metadata": {
        "colab": {
          "base_uri": "https://localhost:8080/"
        },
        "id": "EtE4qVIFyLIl",
        "outputId": "a4e5989b-08b0-49eb-fe55-2cf5f2b49839"
      },
      "execution_count": null,
      "outputs": [
        {
          "output_type": "stream",
          "name": "stdout",
          "text": [
            "13\n",
            "14\n"
          ]
        }
      ]
    },
    {
      "cell_type": "code",
      "source": [
        "#PROCESSING GROUP 2.\n",
        "\n",
        "# Step 1: Define the labels\n",
        "labels = ['K1', 'K2', 'C1', 'C2', 'C3', 'C4', 'C5', 'C6', 'C7', 'C8', 'C9', 'C10', 'C11', 'C12', 'C13', 'C14', 'C15']\n",
        "\n",
        "# Step 2: Define a function to get the index of a label\n",
        "def index(label):\n",
        "    return labels.index(label)\n",
        "\n",
        "# Step 3: Define a function to check if the time difference between orders is less than or equal to 10 minutes\n",
        "def within_10_minutes(order1, order2):\n",
        "    return (order2.order_ready_time - order1.order_ready_time).total_seconds() <= 600\n",
        "\n",
        "# Step 4: Divide the 2nd group into further subgroups based on order_ready_time\n",
        "subgroups = []\n",
        "remaining_orders = sorted(group2_orders, key=lambda x: x.order_ready_time)\n",
        "\n",
        "while remaining_orders:\n",
        "    start_order = remaining_orders.pop(0)\n",
        "    current_subgroup = [start_order]\n",
        "    end_time = start_order.order_ready_time + timedelta(minutes=10)\n",
        "\n",
        "    i = 0\n",
        "    while i < len(remaining_orders):\n",
        "        if remaining_orders[i].order_ready_time <= end_time:\n",
        "            current_subgroup.append(remaining_orders.pop(i))\n",
        "        else:\n",
        "            i += 1\n",
        "\n",
        "    subgroups.append(current_subgroup)\n",
        "\n",
        "# Print the subgroups\n",
        "print(\"AFTER THE GROUPS OF GROUP 2 ARE SUBGROUPED BASED ON READY-TIME\")\n",
        "for i, subgroup in enumerate(subgroups):\n",
        "    print(f\"Subgroup {i+1}:\")\n",
        "    for order in subgroup:\n",
        "        print(f\"Order ID: {order.order_id}, Ready Time: {order.order_ready_time}\")\n"
      ],
      "metadata": {
        "colab": {
          "base_uri": "https://localhost:8080/"
        },
        "id": "DdM33U1TTmC1",
        "outputId": "7fd7e99d-868f-4f83-d84a-a25e60373235"
      },
      "execution_count": null,
      "outputs": [
        {
          "output_type": "stream",
          "name": "stdout",
          "text": [
            "AFTER THE GROUPS OF GROUP 2 ARE SUBGROUPED BASED ON READY-TIME\n",
            "Subgroup 1:\n",
            "Order ID: Order 24, Ready Time: 2024-03-02 03:54:35.605957\n",
            "Order ID: Order 12, Ready Time: 2024-03-02 03:55:35.605798\n",
            "Order ID: Order 15, Ready Time: 2024-03-02 04:00:35.605840\n",
            "Order ID: Order 3, Ready Time: 2024-03-02 04:01:35.605663\n",
            "Order ID: Order 22, Ready Time: 2024-03-02 04:01:35.605932\n",
            "Order ID: Order 19, Ready Time: 2024-03-02 04:02:35.605892\n",
            "Subgroup 2:\n",
            "Order ID: Order 25, Ready Time: 2024-03-02 04:06:35.605971\n",
            "Order ID: Order 9, Ready Time: 2024-03-02 04:07:35.605749\n",
            "Order ID: Order 10, Ready Time: 2024-03-02 04:07:35.605765\n",
            "Order ID: Order 13, Ready Time: 2024-03-02 04:07:35.605813\n",
            "Order ID: Order 5, Ready Time: 2024-03-02 04:09:35.605692\n"
          ]
        }
      ]
    },
    {
      "cell_type": "code",
      "source": [
        "# Initialize an empty list to store the grouped orders\n",
        "Grouped_K2_ORDERS = []\n",
        "# Step 1: Define a function to calculate the total distance between a list of orders\n",
        "def calculate_total_distance(orders):\n",
        "    total_distance = 0\n",
        "    for i in range(len(orders) - 1):\n",
        "        loc1 = orders[i].drop_off_location[0]  # Extracting the customer label from the location\n",
        "        loc2 = orders[i + 1].drop_off_location[0]\n",
        "        index1 = int(loc1.split()[1]) - 1  # Extract the customer index from the label and convert to zero-based index\n",
        "        index2 = int(loc2.split()[1]) - 1\n",
        "        total_distance += Kitchen_Customer_Distances_Matrix[index1][index2]\n",
        "    return total_distance\n",
        "\n",
        "# Step 2: Divide each subgroup into further subgroups based on distance\n",
        "for i, subgroup in enumerate(subgroups):\n",
        "    print(f\"Subgroup {i+1}:\")\n",
        "    sub_subgroups = []\n",
        "    current_sub_subgroup = []\n",
        "\n",
        "    # Group orders from the same customer together\n",
        "    same_customer_orders = {}\n",
        "    for order in subgroup:\n",
        "        customer = order.drop_off_location[0]\n",
        "        if customer not in same_customer_orders:\n",
        "            same_customer_orders[customer] = []\n",
        "        same_customer_orders[customer].append(order)\n",
        "\n",
        "    for customer_orders in same_customer_orders.values():\n",
        "        if len(customer_orders) > 1:\n",
        "            sub_subgroups.append(customer_orders)\n",
        "        else:\n",
        "            if not current_sub_subgroup:\n",
        "                current_sub_subgroup.extend(customer_orders)\n",
        "            else:\n",
        "                # Calculate the total distance if the current order is added to the current sub-subgroup\n",
        "                current_distance = calculate_total_distance(current_sub_subgroup + customer_orders)\n",
        "\n",
        "                if current_distance <= 3:  # Check if the total distance is less than or equal to 3 km\n",
        "                    # Add the current order to the current sub-subgroup\n",
        "                    current_sub_subgroup.extend(customer_orders)\n",
        "                else:\n",
        "                    # Start a new sub-subgroup\n",
        "                    sub_subgroups.append(current_sub_subgroup)\n",
        "                    current_sub_subgroup = customer_orders\n",
        "\n",
        "    # Add the last sub-subgroup\n",
        "    if current_sub_subgroup:\n",
        "        sub_subgroups.append(current_sub_subgroup)\n",
        "\n",
        "    # Print the sub-subgroups\n",
        "    for j, sub_subgroup in enumerate(sub_subgroups):\n",
        "        print(f\"  Sub-subgroup {j+1}:\")\n",
        "        Grouped_K2_ORDERS.append(sub_subgroup)\n",
        "        for order in sub_subgroup:\n",
        "            print(f\"    Order ID: {order.order_id}, Drop-off Location: {order.drop_off_location[0]}\")\n",
        "\n",
        "    print()\n"
      ],
      "metadata": {
        "colab": {
          "base_uri": "https://localhost:8080/"
        },
        "id": "ogOmc5glT2rn",
        "outputId": "631ea3c6-69a7-4bfa-ad9e-5b44f335dc0b"
      },
      "execution_count": null,
      "outputs": [
        {
          "output_type": "stream",
          "name": "stdout",
          "text": [
            "Subgroup 1:\n",
            "  Sub-subgroup 1:\n",
            "    Order ID: Order 24, Drop-off Location: Customer 10\n",
            "    Order ID: Order 12, Drop-off Location: Customer 2\n",
            "  Sub-subgroup 2:\n",
            "    Order ID: Order 15, Drop-off Location: Customer 0\n",
            "    Order ID: Order 3, Drop-off Location: Customer 14\n",
            "  Sub-subgroup 3:\n",
            "    Order ID: Order 22, Drop-off Location: Customer 13\n",
            "  Sub-subgroup 4:\n",
            "    Order ID: Order 19, Drop-off Location: Customer 11\n",
            "\n",
            "Subgroup 2:\n",
            "  Sub-subgroup 1:\n",
            "    Order ID: Order 25, Drop-off Location: Customer 5\n",
            "    Order ID: Order 9, Drop-off Location: Customer 5\n",
            "    Order ID: Order 10, Drop-off Location: Customer 5\n",
            "    Order ID: Order 5, Drop-off Location: Customer 5\n",
            "  Sub-subgroup 2:\n",
            "    Order ID: Order 13, Drop-off Location: Customer 11\n",
            "\n"
          ]
        }
      ]
    },
    {
      "cell_type": "code",
      "source": [
        "print(Grouped_K2_ORDERS)"
      ],
      "metadata": {
        "colab": {
          "base_uri": "https://localhost:8080/"
        },
        "id": "sjH8NKu9RLaG",
        "outputId": "670ec0e8-fa80-4291-a6e4-5dd657857ab2"
      },
      "execution_count": null,
      "outputs": [
        {
          "output_type": "stream",
          "name": "stdout",
          "text": [
            "[[OrderDetail(order_id='Order 24', food_items=[FoodItem(name='Variety Rice', preparation_time=9), FoodItem(name='Meals', preparation_time=10), FoodItem(name='Poori', preparation_time=17), FoodItem(name='Idli', preparation_time=30), FoodItem(name='Salad', preparation_time=8)], kitchen_id='K2', pick_up_location=Location(address='K2', latitude=11.03333, longitude=77), drop_off_location=Location(address='Customer 10', latitude=11.01144, longitude=76.96747), order_time=datetime.datetime(2024, 3, 2, 3, 43, 35, 605957), order_ready_time=datetime.datetime(2024, 3, 2, 3, 54, 35, 605957)), OrderDetail(order_id='Order 12', food_items=[FoodItem(name='Variety Rice', preparation_time=9), FoodItem(name='Poori', preparation_time=17), FoodItem(name='Salad', preparation_time=8), FoodItem(name='Idli', preparation_time=30), FoodItem(name='Meals', preparation_time=10)], kitchen_id='K2', pick_up_location=Location(address='K2', latitude=11.03333, longitude=77), drop_off_location=Location(address='Customer 2', latitude=11.01378, longitude=76.96423), order_time=datetime.datetime(2024, 3, 2, 3, 43, 35, 605798), order_ready_time=datetime.datetime(2024, 3, 2, 3, 55, 35, 605798))], [OrderDetail(order_id='Order 15', food_items=[FoodItem(name='Salad', preparation_time=8), FoodItem(name='Variety Rice', preparation_time=9)], kitchen_id='K2', pick_up_location=Location(address='K2', latitude=11.03333, longitude=77), drop_off_location=Location(address='Customer 0', latitude=11.00155, longitude=76.96612), order_time=datetime.datetime(2024, 3, 2, 3, 43, 35, 605840), order_ready_time=datetime.datetime(2024, 3, 2, 4, 0, 35, 605840)), OrderDetail(order_id='Order 3', food_items=[FoodItem(name='Meals', preparation_time=10)], kitchen_id='K2', pick_up_location=Location(address='K2', latitude=11.03333, longitude=77), drop_off_location=Location(address='Customer 14', latitude=11.00036, longitude=76.96445), order_time=datetime.datetime(2024, 3, 2, 3, 43, 35, 605663), order_ready_time=datetime.datetime(2024, 3, 2, 4, 1, 35, 605663))], [OrderDetail(order_id='Order 22', food_items=[FoodItem(name='Variety Rice', preparation_time=9), FoodItem(name='Salad', preparation_time=8)], kitchen_id='K2', pick_up_location=Location(address='K2', latitude=11.03333, longitude=77), drop_off_location=Location(address='Customer 13', latitude=10.99712, longitude=76.96569), order_time=datetime.datetime(2024, 3, 2, 3, 43, 35, 605932), order_ready_time=datetime.datetime(2024, 3, 2, 4, 1, 35, 605932))], [OrderDetail(order_id='Order 19', food_items=[FoodItem(name='Poori', preparation_time=17)], kitchen_id='K2', pick_up_location=Location(address='K2', latitude=11.03333, longitude=77), drop_off_location=Location(address='Customer 11', latitude=11.01637, longitude=76.96875), order_time=datetime.datetime(2024, 3, 2, 3, 43, 35, 605892), order_ready_time=datetime.datetime(2024, 3, 2, 4, 2, 35, 605892))], [OrderDetail(order_id='Order 25', food_items=[FoodItem(name='Variety Rice', preparation_time=9), FoodItem(name='Meals', preparation_time=10), FoodItem(name='Idli', preparation_time=30), FoodItem(name='Poori', preparation_time=17)], kitchen_id='K2', pick_up_location=Location(address='K2', latitude=11.03333, longitude=77), drop_off_location=Location(address='Customer 5', latitude=11.03521, longitude=76.99256), order_time=datetime.datetime(2024, 3, 2, 3, 43, 35, 605971), order_ready_time=datetime.datetime(2024, 3, 2, 4, 6, 35, 605971)), OrderDetail(order_id='Order 9', food_items=[FoodItem(name='Idli', preparation_time=30), FoodItem(name='Meals', preparation_time=10), FoodItem(name='Salad', preparation_time=8)], kitchen_id='K2', pick_up_location=Location(address='K2', latitude=11.03333, longitude=77), drop_off_location=Location(address='Customer 5', latitude=11.03521, longitude=76.99256), order_time=datetime.datetime(2024, 3, 2, 3, 43, 35, 605749), order_ready_time=datetime.datetime(2024, 3, 2, 4, 7, 35, 605749)), OrderDetail(order_id='Order 10', food_items=[FoodItem(name='Poori', preparation_time=17), FoodItem(name='Idli', preparation_time=30), FoodItem(name='Salad', preparation_time=8), FoodItem(name='Variety Rice', preparation_time=9), FoodItem(name='Meals', preparation_time=10)], kitchen_id='K2', pick_up_location=Location(address='K2', latitude=11.03333, longitude=77), drop_off_location=Location(address='Customer 5', latitude=11.03521, longitude=76.99256), order_time=datetime.datetime(2024, 3, 2, 3, 43, 35, 605765), order_ready_time=datetime.datetime(2024, 3, 2, 4, 7, 35, 605765)), OrderDetail(order_id='Order 5', food_items=[FoodItem(name='Meals', preparation_time=10)], kitchen_id='K2', pick_up_location=Location(address='K2', latitude=11.03333, longitude=77), drop_off_location=Location(address='Customer 5', latitude=11.03521, longitude=76.99256), order_time=datetime.datetime(2024, 3, 2, 3, 43, 35, 605692), order_ready_time=datetime.datetime(2024, 3, 2, 4, 9, 35, 605692))], [OrderDetail(order_id='Order 13', food_items=[FoodItem(name='Idli', preparation_time=30), FoodItem(name='Salad', preparation_time=8), FoodItem(name='Poori', preparation_time=17)], kitchen_id='K2', pick_up_location=Location(address='K2', latitude=11.03333, longitude=77), drop_off_location=Location(address='Customer 11', latitude=11.01637, longitude=76.96875), order_time=datetime.datetime(2024, 3, 2, 3, 43, 35, 605813), order_ready_time=datetime.datetime(2024, 3, 2, 4, 7, 35, 605813))]]\n"
          ]
        }
      ]
    },
    {
      "cell_type": "code",
      "source": [
        "print(len(group3_orders))\n",
        "\n",
        "\n",
        "# Initialize an empty list to store the single order groups\n",
        "single_order_groups = []\n",
        "\n",
        "# Iterate through the groups in Grouped_K1_ORDERS\n",
        "for group in Grouped_K2_ORDERS:\n",
        "    # Check if the group contains only one order\n",
        "    if len(group) == 1:\n",
        "        # Append the order to group3_orders\n",
        "        group3_orders.append(group[0])\n",
        "    else:\n",
        "        # Append the group to single_order_groups\n",
        "        single_order_groups.append(group)\n",
        "\n",
        "# Remove the single-order groups from Grouped_K1_ORDERS\n",
        "Grouped_K2_ORDERS = single_order_groups\n",
        "\n",
        "print(len(group3_orders))"
      ],
      "metadata": {
        "colab": {
          "base_uri": "https://localhost:8080/"
        },
        "id": "pCp6vVVCyp7F",
        "outputId": "a1a17906-1c1e-4479-eb66-33867b61feda"
      },
      "execution_count": null,
      "outputs": [
        {
          "output_type": "stream",
          "name": "stdout",
          "text": [
            "14\n",
            "17\n"
          ]
        }
      ]
    },
    {
      "cell_type": "code",
      "source": [
        "#FINDING THE NEAREST RIDERS\n",
        "# Initialize lists to store the nearest riders for each kitchen\n",
        "nearest_riders_k1 = []\n",
        "nearest_riders_k2 = []\n",
        "\n",
        "# Calculate combined metric (distance + time) for each rider for kitchen 1\n",
        "combined_metric_k1 = [Kitchen_Rider_Distances_Matrix[0][i] + Kitchen_Rider_Time_Matrix[0][i] for i in range(len(rider_labels))]\n",
        "\n",
        "# Find the indices of riders with the minimum combined metric for kitchen 1\n",
        "min_combined_metric_indices_k1 = sorted(range(len(combined_metric_k1)), key=lambda i: combined_metric_k1[i])[:10]\n",
        "\n",
        "# Populate the nearest riders list for kitchen 1\n",
        "for index in min_combined_metric_indices_k1:\n",
        "    nearest_riders_k1.append(riders[index])\n",
        "\n",
        "# Calculate combined metric (distance + time) for each rider for kitchen 2\n",
        "combined_metric_k2 = [Kitchen_Rider_Distances_Matrix[1][i] + Kitchen_Rider_Time_Matrix[1][i] for i in range(len(rider_labels))]\n",
        "\n",
        "# Find the indices of riders with the minimum combined metric for kitchen 2\n",
        "min_combined_metric_indices_k2 = sorted(range(len(combined_metric_k2)), key=lambda i: combined_metric_k2[i])[:10]\n",
        "\n",
        "# Populate the nearest riders list for kitchen 2\n",
        "for index in min_combined_metric_indices_k2:\n",
        "    nearest_riders_k2.append(riders[index])\n",
        "\n",
        "# Output the lists of nearest riders for each kitchen\n",
        "print(\"Nearest riders to Kitchen 1:\")\n",
        "print(nearest_riders_k1)\n",
        "print(\"\\nNearest riders to Kitchen 2:\")\n",
        "print(nearest_riders_k2)\n"
      ],
      "metadata": {
        "colab": {
          "base_uri": "https://localhost:8080/"
        },
        "id": "OAWfSAk8MJpR",
        "outputId": "496ab60e-e99c-417c-d5af-73fd49fecbe4"
      },
      "execution_count": null,
      "outputs": [
        {
          "output_type": "stream",
          "name": "stdout",
          "text": [
            "Nearest riders to Kitchen 1:\n",
            "[RiderDetail(rider_id='Rider 1', location=Location(address='Rider 1', latitude=11.01402, longitude=76.96747)), RiderDetail(rider_id='Rider 2', location=Location(address='Rider 2', latitude=10.99953, longitude=76.96569)), RiderDetail(rider_id='Rider 6', location=Location(address='Rider 6', latitude=11.00363, longitude=76.96093)), RiderDetail(rider_id='Rider 12', location=Location(address='Rider 12', latitude=10.99772, longitude=76.97468)), RiderDetail(rider_id='Rider 3', location=Location(address='Rider 3', latitude=11.00681, longitude=76.96119)), RiderDetail(rider_id='Rider 15', location=Location(address='Rider 15', latitude=11.03126, longitude=76.95073)), RiderDetail(rider_id='Rider 13', location=Location(address='Rider 13', latitude=10.99101, longitude=76.93552)), RiderDetail(rider_id='Rider 4', location=Location(address='Rider 4', latitude=11.03015, longitude=76.99196)), RiderDetail(rider_id='Rider 20', location=Location(address='Rider 20', latitude=10.97375, longitude=76.97778)), RiderDetail(rider_id='Rider 5', location=Location(address='Rider 5', latitude=11.03125, longitude=77.00863))]\n",
            "\n",
            "Nearest riders to Kitchen 2:\n",
            "[RiderDetail(rider_id='Rider 5', location=Location(address='Rider 5', latitude=11.03125, longitude=77.00863)), RiderDetail(rider_id='Rider 4', location=Location(address='Rider 4', latitude=11.03015, longitude=76.99196)), RiderDetail(rider_id='Rider 9', location=Location(address='Rider 9', latitude=11.07353, longitude=77.00181)), RiderDetail(rider_id='Rider 1', location=Location(address='Rider 1', latitude=11.01402, longitude=76.96747)), RiderDetail(rider_id='Rider 12', location=Location(address='Rider 12', latitude=10.99772, longitude=76.97468)), RiderDetail(rider_id='Rider 2', location=Location(address='Rider 2', latitude=10.99953, longitude=76.96569)), RiderDetail(rider_id='Rider 8', location=Location(address='Rider 8', latitude=11.06447, longitude=76.97164)), RiderDetail(rider_id='Rider 6', location=Location(address='Rider 6', latitude=11.00363, longitude=76.96093)), RiderDetail(rider_id='Rider 17', location=Location(address='Rider 17', latitude=11.01569, longitude=77.03631)), RiderDetail(rider_id='Rider 3', location=Location(address='Rider 3', latitude=11.00681, longitude=76.96119))]\n"
          ]
        }
      ]
    },
    {
      "cell_type": "code",
      "source": [
        "#PLOTTING THE KITCHEN 1 AND IT'S NEAREST RIDERS\n",
        "\n",
        "# Define function to plot coordinates\n",
        "def plot_coordinates(locations, label, color):\n",
        "    x = [location.longitude for location in locations]\n",
        "    y = [location.latitude for location in locations]\n",
        "    plt.scatter(x, y, label=label, color=color)\n",
        "\n",
        "# Plot Kitchen 1 coordinates\n",
        "plot_coordinates([kitchen.location for kitchen in kitchens if kitchen.kitchen_id == 'K1'], 'Kitchen 1', 'red')\n",
        "\n",
        "# Plot coordinates of nearest riders of Kitchen 1\n",
        "plot_coordinates([rider.location for rider in nearest_riders_k1], 'Nearest Riders of Kitchen 1', 'blue')\n",
        "\n",
        "# Set labels and title\n",
        "plt.xlabel('Longitude')\n",
        "plt.ylabel('Latitude')\n",
        "plt.title('Kitchen 1 and Nearest Riders')\n",
        "\n",
        "# Add legend\n",
        "plt.legend()\n",
        "\n",
        "# Show plot\n",
        "plt.grid(True)\n",
        "plt.show()\n"
      ],
      "metadata": {
        "colab": {
          "base_uri": "https://localhost:8080/",
          "height": 472
        },
        "id": "9BuU9gUXNlYl",
        "outputId": "5a156d13-7056-4ed0-a379-01ceb22ee46e"
      },
      "execution_count": null,
      "outputs": [
        {
          "output_type": "display_data",
          "data": {
            "text/plain": [
              "<Figure size 640x480 with 1 Axes>"
            ],
            "image/png": "[encoded data removed]"
          },
          "metadata": {}
        }
      ]
    },
    {
      "cell_type": "code",
      "source": [
        "#PLOTTING THE KITCHEN 1 AND IT'S NEAREST RIDERS\n",
        "# Define function to plot coordinates\n",
        "def plot_coordinates(locations, label, color):\n",
        "    x = [location.longitude for location in locations]\n",
        "    y = [location.latitude for location in locations]\n",
        "    plt.scatter(x, y, label=label, color=color)\n",
        "\n",
        "# Plot Kitchen 2 coordinates\n",
        "plot_coordinates([kitchen.location for kitchen in kitchens if kitchen.kitchen_id == 'K2'], 'Kitchen 2', 'green')\n",
        "\n",
        "# Plot coordinates of nearest riders of Kitchen 2\n",
        "plot_coordinates([rider.location for rider in nearest_riders_k2], 'Nearest Riders of Kitchen 2', 'orange')\n",
        "\n",
        "# Set labels and title\n",
        "plt.xlabel('Longitude')\n",
        "plt.ylabel('Latitude')\n",
        "plt.title('Kitchen 2 and Nearest Riders')\n",
        "\n",
        "# Add legend\n",
        "plt.legend()\n",
        "\n",
        "# Show plot\n",
        "plt.grid(True)\n",
        "plt.show()\n"
      ],
      "metadata": {
        "colab": {
          "base_uri": "https://localhost:8080/",
          "height": 472
        },
        "id": "qAMEYm-mOhqf",
        "outputId": "c66997d6-1c93-46c8-daef-6daf75d80f9c"
      },
      "execution_count": null,
      "outputs": [
        {
          "output_type": "display_data",
          "data": {
            "text/plain": [
              "<Figure size 640x480 with 1 Axes>"
            ],
            "image/png": "[encoded data removed]"
          },
          "metadata": {}
        }
      ]
    },
    {
      "cell_type": "code",
      "source": [
        "import numpy as np\n",
        "from itertools import permutations\n",
        "\n",
        "# Assuming that necessary data structures like `riders`, `Grouped_K1_ORDERS`,\n",
        "# `Kitchen_Rider_Distances_Matrix`, and `Kitchen_Rider_Time_Matrix` are already defined.\n",
        "\n",
        "# Utility functions for indices\n",
        "def kitchen_index(kitchen):\n",
        "    return labels.index(kitchen)\n",
        "\n",
        "# Function to get the index of a rider_id in the rider_labels list\n",
        "def rider_index(rider_id):\n",
        "    # Extract the numerical part of the rider_id and convert it to an integer\n",
        "    rider_num = int(rider_id.split()[-1]) - 1  # Subtract 1 to convert from 1-indexed to 0-indexed\n",
        "    return rider_num if 0 <= rider_num < len(rider_labels) else None\n",
        "\n",
        "def customer_index(customer_address):\n",
        "    # Map customer address to the corresponding label used in the matrices\n",
        "    if customer_address.startswith('Customer'):\n",
        "        index = int(customer_address.split()[1]) - 1  # Extract the index from the address\n",
        "        return index + 2  # Adjust for the kitchen labels 'K1' and 'K2'\n",
        "    else:\n",
        "        return labels.index(customer_address)  # Use the original logic for non-customer addresses\n",
        "\n",
        "\n",
        "# Function to calculate the total distance and time for a delivery sequence\n",
        "def calculate_metrics(rider, delivery_sequence, kitchen_location='K1'):\n",
        "    total_distance = Kitchen_Rider_Distances_Matrix[kitchen_index(kitchen_location)][rider_index(rider.rider_id)]\n",
        "    total_time = Kitchen_Rider_Time_Matrix[kitchen_index(kitchen_location)][rider_index(rider.rider_id)]\n",
        "    current_location = kitchen_location\n",
        "\n",
        "    for order in delivery_sequence:\n",
        "        next_location = order.drop_off_location.address\n",
        "        distance = Kitchen_Customer_Distances_Matrix[customer_index(current_location)][customer_index(next_location)]\n",
        "        time = Kitchen_Customer_Time_Matrix[customer_index(current_location)][customer_index(next_location)]\n",
        "        total_distance += distance\n",
        "        total_time += time\n",
        "        current_location = next_location\n",
        "\n",
        "    return total_distance, total_time\n",
        "\n",
        "# Assigns orders to riders, attempting to minimize total delivery time\n",
        "def assign_orders_to_riders(orders_grouped_by_kitchen, nearest_riders):\n",
        "    assignments = []\n",
        "\n",
        "    for order_batch in orders_grouped_by_kitchen:\n",
        "        best_assignment = None\n",
        "\n",
        "        for rider in nearest_riders:\n",
        "            for sequence in permutations(order_batch):\n",
        "                distance, time = calculate_metrics(rider, sequence)\n",
        "                if not best_assignment or time < best_assignment['time']:\n",
        "                    best_assignment = {'rider': rider, 'sequence': sequence, 'distance': distance, 'time': time}\n",
        "\n",
        "        if best_assignment:\n",
        "            assignments.append(best_assignment)\n",
        "            # Remove assigned rider from consideration for subsequent batches\n",
        "            nearest_riders = [r for r in nearest_riders if r != best_assignment['rider']]\n",
        "\n",
        "    return assignments\n",
        "\n",
        "# Main execution\n",
        "nearest_riders_k1_ids = [r.rider_id.strip() for r in nearest_riders_k1]  # Strip leading and trailing whitespaces\n",
        "nearest_riders_k1_objects = [r for r in riders if r.rider_id.strip() in nearest_riders_k1_ids]  # Strip leading and trailing whitespaces\n",
        "print(nearest_riders_k1_objects)\n",
        "assignments = assign_orders_to_riders(Grouped_K1_ORDERS, nearest_riders_k1_objects)\n",
        "\n",
        "# Displaying the assignments\n",
        "if assignments:\n",
        "    for assignment in assignments:\n",
        "        rider_id = assignment['rider'].rider_id\n",
        "        sequence = ' -> '.join([order.drop_off_location.address for order in assignment['sequence']])\n",
        "        distance = assignment['distance']\n",
        "        time = assignment['time']\n",
        "        print(f\"Rider {rider_id} assigned sequence: {sequence}\")\n",
        "        print(f\"Total distance: {distance:.2f} km, Total time: {time:.2f} min\\n\")\n",
        "else:\n",
        "    print(\"No assignments made.\")\n"
      ],
      "metadata": {
        "colab": {
          "base_uri": "https://localhost:8080/"
        },
        "id": "3n32nBrAOLDE",
        "outputId": "76d16382-8389-41b3-f7ed-6f41fd6b5f95"
      },
      "execution_count": null,
      "outputs": [
        {
          "output_type": "stream",
          "name": "stdout",
          "text": [
            "[RiderDetail(rider_id='Rider 1', location=Location(address='Rider 1', latitude=11.01402, longitude=76.96747)), RiderDetail(rider_id='Rider 2', location=Location(address='Rider 2', latitude=10.99953, longitude=76.96569)), RiderDetail(rider_id='Rider 3', location=Location(address='Rider 3', latitude=11.00681, longitude=76.96119)), RiderDetail(rider_id='Rider 4', location=Location(address='Rider 4', latitude=11.03015, longitude=76.99196)), RiderDetail(rider_id='Rider 5', location=Location(address='Rider 5', latitude=11.03125, longitude=77.00863)), RiderDetail(rider_id='Rider 6', location=Location(address='Rider 6', latitude=11.00363, longitude=76.96093)), RiderDetail(rider_id='Rider 12', location=Location(address='Rider 12', latitude=10.99772, longitude=76.97468)), RiderDetail(rider_id='Rider 13', location=Location(address='Rider 13', latitude=10.99101, longitude=76.93552)), RiderDetail(rider_id='Rider 15', location=Location(address='Rider 15', latitude=11.03126, longitude=76.95073)), RiderDetail(rider_id='Rider 20', location=Location(address='Rider 20', latitude=10.97375, longitude=76.97778))]\n",
            "No assignments made.\n"
          ]
        }
      ]
    },
    {
      "cell_type": "code",
      "source": [
        "import numpy as np\n",
        "from itertools import permutations\n",
        "\n",
        "# Assuming that necessary data structures like `riders`, `Grouped_K1_ORDERS`,\n",
        "# `Kitchen_Rider_Distances_Matrix`, and `Kitchen_Rider_Time_Matrix` are already defined.\n",
        "\n",
        "# Utility functions for indices\n",
        "def kitchen_index(kitchen):\n",
        "    return labels.index(kitchen)\n",
        "\n",
        "# Function to get the index of a rider_id in the rider_labels list\n",
        "def rider_index(rider_id):\n",
        "    # Extract the numerical part of the rider_id and convert it to an integer\n",
        "    rider_num = int(rider_id.split()[-1]) - 1  # Subtract 1 to convert from 1-indexed to 0-indexed\n",
        "    return rider_num if 0 <= rider_num < len(rider_labels) else None\n",
        "\n",
        "def customer_index(customer_address):\n",
        "    # Map customer address to the corresponding label used in the matrices\n",
        "    if customer_address.startswith('Customer'):\n",
        "        index = int(customer_address.split()[1]) - 1  # Extract the index from the address\n",
        "        return index + 2  # Adjust for the kitchen labels 'K1' and 'K2'\n",
        "    else:\n",
        "        return labels.index(customer_address)  # Use the original logic for non-customer addresses\n",
        "\n",
        "\n",
        "def calculate_metrics(rider, delivery_sequence, kitchen_location='K2'):\n",
        "    total_distance = 0\n",
        "    total_time = 0\n",
        "    current_location = kitchen_location\n",
        "\n",
        "    # Go to the kitchen first\n",
        "    kitchen_distance = Kitchen_Rider_Distances_Matrix[kitchen_index(current_location)][rider_index(rider.rider_id)]\n",
        "    kitchen_time = Kitchen_Rider_Time_Matrix[kitchen_index(current_location)][rider_index(rider.rider_id)]\n",
        "    total_distance += kitchen_distance\n",
        "    total_time += kitchen_time\n",
        "\n",
        "    for i in range(len(delivery_sequence)):\n",
        "        next_location = delivery_sequence[i].drop_off_location.address\n",
        "        distance = Kitchen_Customer_Distances_Matrix[customer_index(current_location)][customer_index(next_location)]\n",
        "        time = Kitchen_Customer_Time_Matrix[customer_index(current_location)][customer_index(next_location)]\n",
        "        total_distance += distance\n",
        "        total_time += time\n",
        "        current_location = next_location\n",
        "\n",
        "        # Check if there are more customers to deliver\n",
        "        if i < len(delivery_sequence) - 1:\n",
        "            # Consider different routes for delivery\n",
        "            next_customer_locations = [order.drop_off_location.address for order in delivery_sequence[i + 1:]]\n",
        "            route1_distance = distance\n",
        "            route2_distance = Kitchen_Customer_Distances_Matrix[customer_index(current_location)][customer_index(next_customer_locations[0])]\n",
        "            if len(next_customer_locations) > 1:\n",
        "                route1_distance += Kitchen_Customer_Distances_Matrix[customer_index(next_customer_locations[0])][customer_index(next_customer_locations[1])]\n",
        "                route2_distance += Kitchen_Customer_Distances_Matrix[customer_index(current_location)][customer_index(next_customer_locations[1])]\n",
        "\n",
        "            # Choose the minimum distance route\n",
        "            if route2_distance < route1_distance:\n",
        "                total_distance += route2_distance\n",
        "                total_time += Kitchen_Customer_Time_Matrix[customer_index(current_location)][customer_index(next_customer_locations[0])]\n",
        "                if len(next_customer_locations) > 1:\n",
        "                    current_location = next_customer_locations[1]\n",
        "            else:\n",
        "                total_distance += route1_distance\n",
        "                total_time += time\n",
        "\n",
        "    return total_distance, total_time\n",
        "\n",
        "def assign_orders_to_riders(orders_grouped_by_kitchen, nearest_riders):\n",
        "    assignments = []\n",
        "\n",
        "    for order_batch in orders_grouped_by_kitchen:\n",
        "        best_assignment = None\n",
        "\n",
        "        for rider in nearest_riders:\n",
        "            for sequence in permutations(order_batch):\n",
        "                distance, time = calculate_metrics(rider, sequence)\n",
        "                if not best_assignment or time < best_assignment['time']:\n",
        "                    best_assignment = {'rider': rider, 'sequence': sequence, 'distance': distance, 'time': time}\n",
        "\n",
        "        if best_assignment:\n",
        "            assignments.append(best_assignment)\n",
        "            nearest_riders = [r for r in nearest_riders if r != best_assignment['rider']]\n",
        "\n",
        "    return assignments\n",
        "\n",
        "# Main execution\n",
        "nearest_riders_k2_ids = [r.rider_id.strip() for r in nearest_riders_k2]  # Strip leading and trailing whitespaces\n",
        "nearest_riders_k2_objects = [r for r in riders if r.rider_id.strip() in nearest_riders_k2_ids]  # Strip leading and trailing whitespaces\n",
        "print(nearest_riders_k2_objects)\n",
        "assignments = assign_orders_to_riders(Grouped_K2_ORDERS, nearest_riders_k2_objects)\n",
        "\n",
        "# Displaying the assignments\n",
        "if assignments:\n",
        "    for assignment in assignments:\n",
        "        rider_id = assignment['rider'].rider_id\n",
        "        sequence = ' -> '.join([order.drop_off_location.address for order in assignment['sequence']])\n",
        "        distance = assignment['distance']\n",
        "        time = assignment['time']\n",
        "        print(f\"Rider {rider_id} assigned sequence: {sequence}\")\n",
        "        print(f\"Total distance: {distance:.2f} km, Total time: {time:.2f} min\\n\")\n",
        "else:\n",
        "    print(\"No assignments made.\")\n"
      ],
      "metadata": {
        "colab": {
          "base_uri": "https://localhost:8080/"
        },
        "id": "FHpdRarefo3t",
        "outputId": "f66627c4-ea91-43dc-c635-1d6fd1341529"
      },
      "execution_count": null,
      "outputs": [
        {
          "output_type": "stream",
          "name": "stdout",
          "text": [
            "[RiderDetail(rider_id='Rider 1', location=Location(address='Rider 1', latitude=11.01402, longitude=76.96747)), RiderDetail(rider_id='Rider 2', location=Location(address='Rider 2', latitude=10.99953, longitude=76.96569)), RiderDetail(rider_id='Rider 3', location=Location(address='Rider 3', latitude=11.00681, longitude=76.96119)), RiderDetail(rider_id='Rider 4', location=Location(address='Rider 4', latitude=11.03015, longitude=76.99196)), RiderDetail(rider_id='Rider 5', location=Location(address='Rider 5', latitude=11.03125, longitude=77.00863)), RiderDetail(rider_id='Rider 6', location=Location(address='Rider 6', latitude=11.00363, longitude=76.96093)), RiderDetail(rider_id='Rider 8', location=Location(address='Rider 8', latitude=11.06447, longitude=76.97164)), RiderDetail(rider_id='Rider 9', location=Location(address='Rider 9', latitude=11.07353, longitude=77.00181)), RiderDetail(rider_id='Rider 12', location=Location(address='Rider 12', latitude=10.99772, longitude=76.97468)), RiderDetail(rider_id='Rider 17', location=Location(address='Rider 17', latitude=11.01569, longitude=77.03631))]\n",
            "Rider Rider 5 assigned sequence: Customer 10 -> Customer 2\n",
            "Total distance: 8.40 km, Total time: 43.00 min\n",
            "\n",
            "Rider Rider 4 assigned sequence: Customer 0 -> Customer 14\n",
            "Total distance: 10.60 km, Total time: 27.00 min\n",
            "\n",
            "Rider Rider 9 assigned sequence: Customer 5 -> Customer 5 -> Customer 5 -> Customer 5\n",
            "Total distance: 12.30 km, Total time: 31.00 min\n",
            "\n"
          ]
        }
      ]
    },
    {
      "cell_type": "code",
      "source": [
        "from datetime import timedelta\n",
        "\n",
        "# Step 1: Define the function to calculate the time difference between two order ready times\n",
        "def time_difference(order1, order2):\n",
        "    return abs((order1.order_ready_time - order2.order_ready_time).total_seconds() / 60)\n",
        "\n",
        "# Step 2: Initialize groups\n",
        "grouped_orders = []\n",
        "\n",
        "# Step 3: Iterate through each order in group3_orders\n",
        "for i in range(len(group3_orders)):\n",
        "    current_order = group3_orders[i]\n",
        "    if current_order in [order for group in grouped_orders for order in group]:\n",
        "        continue  # Skip orders already grouped\n",
        "\n",
        "    current_order_grouped = False\n",
        "\n",
        "    # Check for rule 1: Same customer ordered from both kitchens (K1 and K2) within 10 minutes\n",
        "    for j in range(i + 1, len(group3_orders)):\n",
        "        next_order = group3_orders[j]\n",
        "        if (current_order.drop_off_location == next_order.drop_off_location and\n",
        "            current_order.kitchen_id != next_order.kitchen_id and\n",
        "            time_difference(current_order, next_order) <= 30):\n",
        "            if next_order not in [order for group in grouped_orders for order in group]:\n",
        "                grouped_orders.append([current_order, next_order])\n",
        "                current_order_grouped = True\n",
        "                break\n",
        "\n",
        "    if current_order_grouped:\n",
        "        continue\n",
        "\n",
        "    # Check for rule 2: Same pick-up location\n",
        "    for grouped_order in grouped_orders:\n",
        "        if current_order.pick_up_location == grouped_order[0].pick_up_location:\n",
        "            grouped_order.append(current_order)\n",
        "            current_order_grouped = True\n",
        "            break\n",
        "\n",
        "    if current_order_grouped:\n",
        "        continue\n",
        "\n",
        "    # Check for rule 3: Same drop-off location\n",
        "    for grouped_order in grouped_orders:\n",
        "        if current_order.drop_off_location == grouped_order[0].drop_off_location:\n",
        "            grouped_order.append(current_order)\n",
        "            current_order_grouped = True\n",
        "            break\n",
        "\n",
        "    if current_order_grouped:\n",
        "        continue\n",
        "\n",
        "    # Check for rule 4: Same kitchen ID\n",
        "    for grouped_order in grouped_orders:\n",
        "        if current_order.kitchen_id == grouped_order[0].kitchen_id:\n",
        "            grouped_order.append(current_order)\n",
        "            current_order_grouped = True\n",
        "            break\n",
        "\n",
        "    if not current_order_grouped:\n",
        "        grouped_orders.append([current_order])\n",
        "\n",
        "# Print the grouped orders\n",
        "for group in grouped_orders:\n",
        "    print(\"Group:\")\n",
        "    for order in group:\n",
        "        print(order)\n",
        "    print(\"\\n\")\n",
        "\n",
        "print(grouped_orders)"
      ],
      "metadata": {
        "colab": {
          "base_uri": "https://localhost:8080/"
        },
        "id": "y9fmkiRCj73c",
        "outputId": "f0ba92e6-d3fb-422f-cf87-e673a206ebff"
      },
      "execution_count": null,
      "outputs": [
        {
          "output_type": "stream",
          "name": "stdout",
          "text": [
            "Group:\n",
            "OrderDetail(order_id='Order 7', food_items=[FoodItem(name='Idli', preparation_time=30)], kitchen_id='K1', pick_up_location=Location(address='K1', latitude=11.00555, longitude=76.96612), drop_off_location=Location(address='Customer 6', latitude=11.03285, longitude=76.99872), order_time=datetime.datetime(2024, 3, 2, 3, 43, 35, 605721), order_ready_time=datetime.datetime(2024, 3, 2, 4, 3, 35, 605721))\n",
            "OrderDetail(order_id='Order 11', food_items=[FoodItem(name='Idli', preparation_time=30), FoodItem(name='Meals', preparation_time=10), FoodItem(name='Poori', preparation_time=17), FoodItem(name='Variety Rice', preparation_time=9)], kitchen_id='K2', pick_up_location=Location(address='K2', latitude=11.03333, longitude=77), drop_off_location=Location(address='Customer 6', latitude=11.03285, longitude=76.99872), order_time=datetime.datetime(2024, 3, 2, 3, 43, 35, 605782), order_ready_time=datetime.datetime(2024, 3, 2, 4, 8, 35, 605782))\n",
            "OrderDetail(order_id='Order 20', food_items=[FoodItem(name='Variety Rice', preparation_time=9), FoodItem(name='Meals', preparation_time=10), FoodItem(name='Salad', preparation_time=8), FoodItem(name='Poori', preparation_time=17), FoodItem(name='Idli', preparation_time=30)], kitchen_id='K1', pick_up_location=Location(address='K1', latitude=11.00555, longitude=76.96612), drop_off_location=Location(address='Customer 8', latitude=11.03188, longitude=77.00568), order_time=datetime.datetime(2024, 3, 2, 3, 43, 35, 605907), order_ready_time=datetime.datetime(2024, 3, 2, 4, 9, 35, 605907))\n",
            "OrderDetail(order_id='Order 18', food_items=[FoodItem(name='Variety Rice', preparation_time=9), FoodItem(name='Poori', preparation_time=17), FoodItem(name='Salad', preparation_time=8), FoodItem(name='Idli', preparation_time=30)], kitchen_id='K1', pick_up_location=Location(address='K1', latitude=11.00555, longitude=76.96612), drop_off_location=Location(address='Customer 4', latitude=11.01217, longitude=76.96931), order_time=datetime.datetime(2024, 3, 2, 3, 43, 35, 605880), order_ready_time=datetime.datetime(2024, 3, 2, 4, 5, 35, 605880))\n",
            "OrderDetail(order_id='Order 8', food_items=[FoodItem(name='Salad', preparation_time=8), FoodItem(name='Variety Rice', preparation_time=9), FoodItem(name='Idli', preparation_time=30), FoodItem(name='Meals', preparation_time=10)], kitchen_id='K1', pick_up_location=Location(address='K1', latitude=11.00555, longitude=76.96612), drop_off_location=Location(address='Customer 9', latitude=11.02879, longitude=77.00213), order_time=datetime.datetime(2024, 3, 2, 3, 43, 35, 605735), order_ready_time=datetime.datetime(2024, 3, 2, 4, 2, 35, 605735))\n",
            "\n",
            "\n",
            "Group:\n",
            "OrderDetail(order_id='Order 4', food_items=[FoodItem(name='Poori', preparation_time=17), FoodItem(name='Meals', preparation_time=10), FoodItem(name='Idli', preparation_time=30), FoodItem(name='Variety Rice', preparation_time=9), FoodItem(name='Salad', preparation_time=8)], kitchen_id='K1', pick_up_location=Location(address='K1', latitude=11.00555, longitude=76.96612), drop_off_location=Location(address='Customer 8', latitude=11.03188, longitude=77.00568), order_time=datetime.datetime(2024, 3, 2, 3, 43, 35, 605680), order_ready_time=datetime.datetime(2024, 3, 2, 3, 54, 35, 605680))\n",
            "OrderDetail(order_id='Order 6', food_items=[FoodItem(name='Idli', preparation_time=30), FoodItem(name='Meals', preparation_time=10), FoodItem(name='Salad', preparation_time=8)], kitchen_id='K2', pick_up_location=Location(address='K2', latitude=11.03333, longitude=77), drop_off_location=Location(address='Customer 8', latitude=11.03188, longitude=77.00568), order_time=datetime.datetime(2024, 3, 2, 3, 43, 35, 605707), order_ready_time=datetime.datetime(2024, 3, 2, 4, 8, 35, 605707))\n",
            "\n",
            "\n",
            "Group:\n",
            "OrderDetail(order_id='Order 14', food_items=[FoodItem(name='Poori', preparation_time=17), FoodItem(name='Meals', preparation_time=10), FoodItem(name='Idli', preparation_time=30)], kitchen_id='K1', pick_up_location=Location(address='K1', latitude=11.00555, longitude=76.96612), drop_off_location=Location(address='Customer 8', latitude=11.03188, longitude=77.00568), order_time=datetime.datetime(2024, 3, 2, 3, 43, 35, 605827), order_ready_time=datetime.datetime(2024, 3, 2, 4, 8, 35, 605827))\n",
            "OrderDetail(order_id='Order 16', food_items=[FoodItem(name='Idli', preparation_time=30), FoodItem(name='Variety Rice', preparation_time=9)], kitchen_id='K2', pick_up_location=Location(address='K2', latitude=11.03333, longitude=77), drop_off_location=Location(address='Customer 8', latitude=11.03188, longitude=77.00568), order_time=datetime.datetime(2024, 3, 2, 3, 43, 35, 605853), order_ready_time=datetime.datetime(2024, 3, 2, 4, 11, 35, 605853))\n",
            "\n",
            "\n",
            "Group:\n",
            "OrderDetail(order_id='Order 17', food_items=[FoodItem(name='Meals', preparation_time=10)], kitchen_id='K2', pick_up_location=Location(address='K2', latitude=11.03333, longitude=77), drop_off_location=Location(address='Customer 4', latitude=11.01217, longitude=76.96931), order_time=datetime.datetime(2024, 3, 2, 3, 43, 35, 605865), order_ready_time=datetime.datetime(2024, 3, 2, 3, 58, 35, 605865))\n",
            "OrderDetail(order_id='Order 23', food_items=[FoodItem(name='Variety Rice', preparation_time=9), FoodItem(name='Meals', preparation_time=10)], kitchen_id='K1', pick_up_location=Location(address='K1', latitude=11.00555, longitude=76.96612), drop_off_location=Location(address='Customer 4', latitude=11.01217, longitude=76.96931), order_time=datetime.datetime(2024, 3, 2, 3, 43, 35, 605944), order_ready_time=datetime.datetime(2024, 3, 2, 3, 58, 35, 605944))\n",
            "OrderDetail(order_id='Order 2', food_items=[FoodItem(name='Meals', preparation_time=10), FoodItem(name='Salad', preparation_time=8), FoodItem(name='Poori', preparation_time=17), FoodItem(name='Idli', preparation_time=30), FoodItem(name='Variety Rice', preparation_time=9)], kitchen_id='K2', pick_up_location=Location(address='K2', latitude=11.03333, longitude=77), drop_off_location=Location(address='Customer 12', latitude=11.01452, longitude=76.96631), order_time=datetime.datetime(2024, 3, 2, 3, 43, 35, 605645), order_ready_time=datetime.datetime(2024, 3, 2, 4, 7, 35, 605645))\n",
            "OrderDetail(order_id='Order 22', food_items=[FoodItem(name='Variety Rice', preparation_time=9), FoodItem(name='Salad', preparation_time=8)], kitchen_id='K2', pick_up_location=Location(address='K2', latitude=11.03333, longitude=77), drop_off_location=Location(address='Customer 13', latitude=10.99712, longitude=76.96569), order_time=datetime.datetime(2024, 3, 2, 3, 43, 35, 605932), order_ready_time=datetime.datetime(2024, 3, 2, 4, 1, 35, 605932))\n",
            "OrderDetail(order_id='Order 19', food_items=[FoodItem(name='Poori', preparation_time=17)], kitchen_id='K2', pick_up_location=Location(address='K2', latitude=11.03333, longitude=77), drop_off_location=Location(address='Customer 11', latitude=11.01637, longitude=76.96875), order_time=datetime.datetime(2024, 3, 2, 3, 43, 35, 605892), order_ready_time=datetime.datetime(2024, 3, 2, 4, 2, 35, 605892))\n",
            "OrderDetail(order_id='Order 13', food_items=[FoodItem(name='Idli', preparation_time=30), FoodItem(name='Salad', preparation_time=8), FoodItem(name='Poori', preparation_time=17)], kitchen_id='K2', pick_up_location=Location(address='K2', latitude=11.03333, longitude=77), drop_off_location=Location(address='Customer 11', latitude=11.01637, longitude=76.96875), order_time=datetime.datetime(2024, 3, 2, 3, 43, 35, 605813), order_ready_time=datetime.datetime(2024, 3, 2, 4, 7, 35, 605813))\n",
            "\n",
            "\n",
            "Group:\n",
            "OrderDetail(order_id='Order 1', food_items=[FoodItem(name='Meals', preparation_time=10), FoodItem(name='Poori', preparation_time=17)], kitchen_id='K2', pick_up_location=Location(address='K2', latitude=11.03333, longitude=77), drop_off_location=Location(address='Customer 12', latitude=11.01452, longitude=76.96631), order_time=datetime.datetime(2024, 3, 2, 3, 43, 35, 605594), order_ready_time=datetime.datetime(2024, 3, 2, 3, 58, 35, 605594))\n",
            "OrderDetail(order_id='Order 21', food_items=[FoodItem(name='Idli', preparation_time=30), FoodItem(name='Variety Rice', preparation_time=9), FoodItem(name='Salad', preparation_time=8), FoodItem(name='Meals', preparation_time=10)], kitchen_id='K1', pick_up_location=Location(address='K1', latitude=11.00555, longitude=76.96612), drop_off_location=Location(address='Customer 12', latitude=11.01452, longitude=76.96631), order_time=datetime.datetime(2024, 3, 2, 3, 43, 35, 605920), order_ready_time=datetime.datetime(2024, 3, 2, 4, 11, 35, 605920))\n",
            "\n",
            "\n",
            "[[OrderDetail(order_id='Order 7', food_items=[FoodItem(name='Idli', preparation_time=30)], kitchen_id='K1', pick_up_location=Location(address='K1', latitude=11.00555, longitude=76.96612), drop_off_location=Location(address='Customer 6', latitude=11.03285, longitude=76.99872), order_time=datetime.datetime(2024, 3, 2, 3, 43, 35, 605721), order_ready_time=datetime.datetime(2024, 3, 2, 4, 3, 35, 605721)), OrderDetail(order_id='Order 11', food_items=[FoodItem(name='Idli', preparation_time=30), FoodItem(name='Meals', preparation_time=10), FoodItem(name='Poori', preparation_time=17), FoodItem(name='Variety Rice', preparation_time=9)], kitchen_id='K2', pick_up_location=Location(address='K2', latitude=11.03333, longitude=77), drop_off_location=Location(address='Customer 6', latitude=11.03285, longitude=76.99872), order_time=datetime.datetime(2024, 3, 2, 3, 43, 35, 605782), order_ready_time=datetime.datetime(2024, 3, 2, 4, 8, 35, 605782)), OrderDetail(order_id='Order 20', food_items=[FoodItem(name='Variety Rice', preparation_time=9), FoodItem(name='Meals', preparation_time=10), FoodItem(name='Salad', preparation_time=8), FoodItem(name='Poori', preparation_time=17), FoodItem(name='Idli', preparation_time=30)], kitchen_id='K1', pick_up_location=Location(address='K1', latitude=11.00555, longitude=76.96612), drop_off_location=Location(address='Customer 8', latitude=11.03188, longitude=77.00568), order_time=datetime.datetime(2024, 3, 2, 3, 43, 35, 605907), order_ready_time=datetime.datetime(2024, 3, 2, 4, 9, 35, 605907)), OrderDetail(order_id='Order 18', food_items=[FoodItem(name='Variety Rice', preparation_time=9), FoodItem(name='Poori', preparation_time=17), FoodItem(name='Salad', preparation_time=8), FoodItem(name='Idli', preparation_time=30)], kitchen_id='K1', pick_up_location=Location(address='K1', latitude=11.00555, longitude=76.96612), drop_off_location=Location(address='Customer 4', latitude=11.01217, longitude=76.96931), order_time=datetime.datetime(2024, 3, 2, 3, 43, 35, 605880), order_ready_time=datetime.datetime(2024, 3, 2, 4, 5, 35, 605880)), OrderDetail(order_id='Order 8', food_items=[FoodItem(name='Salad', preparation_time=8), FoodItem(name='Variety Rice', preparation_time=9), FoodItem(name='Idli', preparation_time=30), FoodItem(name='Meals', preparation_time=10)], kitchen_id='K1', pick_up_location=Location(address='K1', latitude=11.00555, longitude=76.96612), drop_off_location=Location(address='Customer 9', latitude=11.02879, longitude=77.00213), order_time=datetime.datetime(2024, 3, 2, 3, 43, 35, 605735), order_ready_time=datetime.datetime(2024, 3, 2, 4, 2, 35, 605735))], [OrderDetail(order_id='Order 4', food_items=[FoodItem(name='Poori', preparation_time=17), FoodItem(name='Meals', preparation_time=10), FoodItem(name='Idli', preparation_time=30), FoodItem(name='Variety Rice', preparation_time=9), FoodItem(name='Salad', preparation_time=8)], kitchen_id='K1', pick_up_location=Location(address='K1', latitude=11.00555, longitude=76.96612), drop_off_location=Location(address='Customer 8', latitude=11.03188, longitude=77.00568), order_time=datetime.datetime(2024, 3, 2, 3, 43, 35, 605680), order_ready_time=datetime.datetime(2024, 3, 2, 3, 54, 35, 605680)), OrderDetail(order_id='Order 6', food_items=[FoodItem(name='Idli', preparation_time=30), FoodItem(name='Meals', preparation_time=10), FoodItem(name='Salad', preparation_time=8)], kitchen_id='K2', pick_up_location=Location(address='K2', latitude=11.03333, longitude=77), drop_off_location=Location(address='Customer 8', latitude=11.03188, longitude=77.00568), order_time=datetime.datetime(2024, 3, 2, 3, 43, 35, 605707), order_ready_time=datetime.datetime(2024, 3, 2, 4, 8, 35, 605707))], [OrderDetail(order_id='Order 14', food_items=[FoodItem(name='Poori', preparation_time=17), FoodItem(name='Meals', preparation_time=10), FoodItem(name='Idli', preparation_time=30)], kitchen_id='K1', pick_up_location=Location(address='K1', latitude=11.00555, longitude=76.96612), drop_off_location=Location(address='Customer 8', latitude=11.03188, longitude=77.00568), order_time=datetime.datetime(2024, 3, 2, 3, 43, 35, 605827), order_ready_time=datetime.datetime(2024, 3, 2, 4, 8, 35, 605827)), OrderDetail(order_id='Order 16', food_items=[FoodItem(name='Idli', preparation_time=30), FoodItem(name='Variety Rice', preparation_time=9)], kitchen_id='K2', pick_up_location=Location(address='K2', latitude=11.03333, longitude=77), drop_off_location=Location(address='Customer 8', latitude=11.03188, longitude=77.00568), order_time=datetime.datetime(2024, 3, 2, 3, 43, 35, 605853), order_ready_time=datetime.datetime(2024, 3, 2, 4, 11, 35, 605853))], [OrderDetail(order_id='Order 17', food_items=[FoodItem(name='Meals', preparation_time=10)], kitchen_id='K2', pick_up_location=Location(address='K2', latitude=11.03333, longitude=77), drop_off_location=Location(address='Customer 4', latitude=11.01217, longitude=76.96931), order_time=datetime.datetime(2024, 3, 2, 3, 43, 35, 605865), order_ready_time=datetime.datetime(2024, 3, 2, 3, 58, 35, 605865)), OrderDetail(order_id='Order 23', food_items=[FoodItem(name='Variety Rice', preparation_time=9), FoodItem(name='Meals', preparation_time=10)], kitchen_id='K1', pick_up_location=Location(address='K1', latitude=11.00555, longitude=76.96612), drop_off_location=Location(address='Customer 4', latitude=11.01217, longitude=76.96931), order_time=datetime.datetime(2024, 3, 2, 3, 43, 35, 605944), order_ready_time=datetime.datetime(2024, 3, 2, 3, 58, 35, 605944)), OrderDetail(order_id='Order 2', food_items=[FoodItem(name='Meals', preparation_time=10), FoodItem(name='Salad', preparation_time=8), FoodItem(name='Poori', preparation_time=17), FoodItem(name='Idli', preparation_time=30), FoodItem(name='Variety Rice', preparation_time=9)], kitchen_id='K2', pick_up_location=Location(address='K2', latitude=11.03333, longitude=77), drop_off_location=Location(address='Customer 12', latitude=11.01452, longitude=76.96631), order_time=datetime.datetime(2024, 3, 2, 3, 43, 35, 605645), order_ready_time=datetime.datetime(2024, 3, 2, 4, 7, 35, 605645)), OrderDetail(order_id='Order 22', food_items=[FoodItem(name='Variety Rice', preparation_time=9), FoodItem(name='Salad', preparation_time=8)], kitchen_id='K2', pick_up_location=Location(address='K2', latitude=11.03333, longitude=77), drop_off_location=Location(address='Customer 13', latitude=10.99712, longitude=76.96569), order_time=datetime.datetime(2024, 3, 2, 3, 43, 35, 605932), order_ready_time=datetime.datetime(2024, 3, 2, 4, 1, 35, 605932)), OrderDetail(order_id='Order 19', food_items=[FoodItem(name='Poori', preparation_time=17)], kitchen_id='K2', pick_up_location=Location(address='K2', latitude=11.03333, longitude=77), drop_off_location=Location(address='Customer 11', latitude=11.01637, longitude=76.96875), order_time=datetime.datetime(2024, 3, 2, 3, 43, 35, 605892), order_ready_time=datetime.datetime(2024, 3, 2, 4, 2, 35, 605892)), OrderDetail(order_id='Order 13', food_items=[FoodItem(name='Idli', preparation_time=30), FoodItem(name='Salad', preparation_time=8), FoodItem(name='Poori', preparation_time=17)], kitchen_id='K2', pick_up_location=Location(address='K2', latitude=11.03333, longitude=77), drop_off_location=Location(address='Customer 11', latitude=11.01637, longitude=76.96875), order_time=datetime.datetime(2024, 3, 2, 3, 43, 35, 605813), order_ready_time=datetime.datetime(2024, 3, 2, 4, 7, 35, 605813))], [OrderDetail(order_id='Order 1', food_items=[FoodItem(name='Meals', preparation_time=10), FoodItem(name='Poori', preparation_time=17)], kitchen_id='K2', pick_up_location=Location(address='K2', latitude=11.03333, longitude=77), drop_off_location=Location(address='Customer 12', latitude=11.01452, longitude=76.96631), order_time=datetime.datetime(2024, 3, 2, 3, 43, 35, 605594), order_ready_time=datetime.datetime(2024, 3, 2, 3, 58, 35, 605594)), OrderDetail(order_id='Order 21', food_items=[FoodItem(name='Idli', preparation_time=30), FoodItem(name='Variety Rice', preparation_time=9), FoodItem(name='Salad', preparation_time=8), FoodItem(name='Meals', preparation_time=10)], kitchen_id='K1', pick_up_location=Location(address='K1', latitude=11.00555, longitude=76.96612), drop_off_location=Location(address='Customer 12', latitude=11.01452, longitude=76.96631), order_time=datetime.datetime(2024, 3, 2, 3, 43, 35, 605920), order_ready_time=datetime.datetime(2024, 3, 2, 4, 11, 35, 605920))]]\n"
          ]
        }
      ]
    }
  ]
}